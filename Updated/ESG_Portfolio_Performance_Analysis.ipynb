{
 "cells": [
  {
   "cell_type": "markdown",
   "metadata": {
    "id": "WnOwg2sD_1Gk"
   },
   "source": [
    "# **ESG Portfolio Performance Analysis: A Comparative Study of Top and Bottom ESG Risk Scores**"
   ]
  },
  {
   "cell_type": "markdown",
   "metadata": {
    "id": "AyHUBJ8w__e7"
   },
   "source": [
    "## **Introduction**\n",
    "Environmental, Social, and Governance (ESG) factors have gained significant attention in recent years as investors increasingly seek to align their portfolios with sustainability and ethical considerations. This study aims to analyze the performance of portfolios constructed based on ESG risk scores. Specifically, it compares the performance of portfolios comprising stocks with the highest and lowest ESG risk scores. The analysis utilizes data from Yahoo Finance, S&P 500 ESG Risk Ratings, risk-free rate data from FRED, and Fama-French factors. The study period spans from January 2000 to June 2024."
   ]
  },
  {
   "cell_type": "markdown",
   "metadata": {
    "id": "CJAQjQ78_7G7"
   },
   "source": [
    "## **Datasets**\n",
    "- **Yahoo Finance dataset from yfinance package**: Used to gather stock price data for S&P 500 companies.\n",
    "- **S&P 500 ESG Risk Ratings from Kaggle (SP 500 ESG Risk Ratings.csv)**: Contains ESG risk scores for S&P 500 companies. [Dataset link](https://www.kaggle.com/datasets/pritish509/s-and-p-500-esg-risk-ratings)\n",
    "- **Risk-free rate data from FRED (DTB3.csv)**: Provides the daily risk-free rate. [Dataset link](https://fred.stlouisfed.org/series/DTB3)\n",
    "- **Fama-French factors dataset**: Includes daily Fama-French factors. [Dataset link](https://github.com/bashtage/python-introduction/blob/main/course/autumn/data/F-F_Research_Data_Factors_daily.csv)\n"
   ]
  },
  {
   "cell_type": "markdown",
   "metadata": {
    "id": "l-yUERuxXg-L"
   },
   "source": [
    "## **1. Data Collection**"
   ]
  },
  {
   "cell_type": "code",
   "execution_count": 2,
   "metadata": {
    "colab": {
     "base_uri": "https://localhost:8080/"
    },
    "id": "e8gX6tWhNwhz",
    "outputId": "ce385ceb-0943-45ed-a821-afb5f75d1756"
   },
   "outputs": [
    {
     "name": "stderr",
     "output_type": "stream",
     "text": [
      "[*****************     36%%                      ]  180 of 503 completed"
     ]
    },
    {
     "name": "stdout",
     "output_type": "stream",
     "text": [
      "$BF.B: possibly delisted; No price data found  (1d 2000-01-01 -> 2024-06-30)\n"
     ]
    },
    {
     "name": "stderr",
     "output_type": "stream",
     "text": [
      "[*********************100%%**********************]  503 of 503 completed\n",
      "ERROR:yfinance:\n",
      "1 Failed download:\n",
      "ERROR:yfinance:['BF.B']: YFPricesMissingError('$%ticker%: possibly delisted; No price data found  (1d 2000-01-01 -> 2024-06-30)')\n",
      "[*****************     36%%                      ]  180 of 503 completed"
     ]
    },
    {
     "name": "stdout",
     "output_type": "stream",
     "text": [
      "$BF.B: possibly delisted; No price data found  (1d 2000-01-01 -> 2024-06-30)\n"
     ]
    },
    {
     "name": "stderr",
     "output_type": "stream",
     "text": [
      "[*********************100%%**********************]  503 of 503 completed\n",
      "ERROR:yfinance:\n",
      "1 Failed download:\n",
      "ERROR:yfinance:['BF.B']: YFPricesMissingError('$%ticker%: possibly delisted; No price data found  (1d 2000-01-01 -> 2024-06-30)')\n"
     ]
    },
    {
     "name": "stdout",
     "output_type": "stream",
     "text": [
      "Price       Adj Close                                                  \\\n",
      "Ticker              A AAL      AAPL ABBV ABNB       ABT      ACGL ACN   \n",
      "Date                                                                    \n",
      "2000-01-03  43.532211 NaN  0.844981  NaN  NaN  8.327242  1.277778 NaN   \n",
      "2000-01-04  40.206848 NaN  0.773740  NaN  NaN  8.089320  1.270833 NaN   \n",
      "2000-01-05  37.712811 NaN  0.785063  NaN  NaN  8.074454  1.388889 NaN   \n",
      "2000-01-06  36.276848 NaN  0.717125  NaN  NaN  8.356982  1.375000 NaN   \n",
      "2000-01-07  39.299919 NaN  0.751094  NaN  NaN  8.446206  1.451389 NaN   \n",
      "\n",
      "Price                             ... Volume                                   \\\n",
      "Ticker           ADBE        ADI  ...    WTW       WY WYNN      XEL       XOM   \n",
      "Date                              ...                                           \n",
      "2000-01-03  16.274673  28.325624  ...    NaN   973700  NaN  2738600  13458200   \n",
      "2000-01-04  14.909399  26.892654  ...    NaN  1201700  NaN   425200  14510800   \n",
      "2000-01-05  15.204176  27.285252  ...    NaN  1184600  NaN   500200  17485000   \n",
      "2000-01-06  15.328289  26.539326  ...    NaN  1307700  NaN   344100  19461600   \n",
      "2000-01-07  16.072987  27.285252  ...    NaN  1728000  NaN   469500  16603800   \n",
      "\n",
      "Price                                     \n",
      "Ticker     XYL      YUM ZBH     ZBRA ZTS  \n",
      "Date                                      \n",
      "2000-01-03 NaN  3033493 NaN  1055700 NaN  \n",
      "2000-01-04 NaN  3315031 NaN   522450 NaN  \n",
      "2000-01-05 NaN  4642602 NaN   612225 NaN  \n",
      "2000-01-06 NaN  3947658 NaN   263925 NaN  \n",
      "2000-01-07 NaN  6063647 NaN   333900 NaN  \n",
      "\n",
      "[5 rows x 3018 columns]\n"
     ]
    }
   ],
   "source": [
    "import yfinance as yf\n",
    "import pandas as pd\n",
    "\n",
    "# Define the time period\n",
    "start_date = \"2000-01-01\"\n",
    "end_date = \"2024-06-30\"\n",
    "\n",
    "# Load the ESG data\n",
    "esg_data_path = 'SP 500 ESG Risk Ratings.csv'\n",
    "esg_data = pd.read_csv(esg_data_path)\n",
    "\n",
    "# Extract the list of tickers from the ESG data\n",
    "tickers = esg_data['Symbol'].unique().tolist()\n",
    "\n",
    "# Download stock data\n",
    "stock_data = yf.download(tickers, start=start_date, end=end_date)\n",
    "\n",
    "# Filter out delisted or missing stocks\n",
    "valid_tickers = [ticker for ticker in tickers if ticker in stock_data.columns.levels[1]]\n",
    "\n",
    "# Download stock data again with valid tickers\n",
    "stock_data = yf.download(valid_tickers, start=start_date, end=end_date)\n",
    "\n",
    "# Save the stock data to a CSV file\n",
    "stock_data.to_csv('stock_data.csv')\n",
    "\n",
    "# Display the first few rows of the stock data\n",
    "print(stock_data.head())\n"
   ]
  },
  {
   "cell_type": "code",
   "execution_count": 3,
   "metadata": {
    "colab": {
     "base_uri": "https://localhost:8080/"
    },
    "id": "iGQbWsmBR0Gd",
    "outputId": "dbae407d-9240-4186-f772-0fd50107bd0c"
   },
   "outputs": [
    {
     "name": "stdout",
     "output_type": "stream",
     "text": [
      "        Date Ticker  Adj Close      Close       High        Low       Open  \\\n",
      "0 2000-01-03      A  43.532211  51.502148  56.464592  48.193848  56.330471   \n",
      "1 2000-01-03   AAPL   0.844981   0.999442   1.004464   0.907924   0.936384   \n",
      "2 2000-01-03    ABT   8.327242  15.711531  16.160433  15.599306  15.823756   \n",
      "3 2000-01-03   ACGL   1.277778   1.277778   1.416667   1.263889   1.409722   \n",
      "4 2000-01-03   ADBE  16.274673  16.390625  16.875000  16.062500  16.812500   \n",
      "\n",
      "        Volume  \n",
      "0    4674353.0  \n",
      "1  535796800.0  \n",
      "2   10635087.0  \n",
      "3     433800.0  \n",
      "4    7384400.0  \n"
     ]
    }
   ],
   "source": [
    "# Reshape stock data to have a single level column index\n",
    "stock_data = stock_data.stack(level=1).reset_index()\n",
    "stock_data.columns = ['Date', 'Ticker', 'Adj Close', 'Close', 'High', 'Low', 'Open', 'Volume']\n",
    "\n",
    "# Display the reshaped stock data\n",
    "print(stock_data.head())\n"
   ]
  },
  {
   "cell_type": "code",
   "execution_count": 4,
   "metadata": {
    "colab": {
     "base_uri": "https://localhost:8080/"
    },
    "id": "crahkCBVR2Gi",
    "outputId": "2231e101-af0d-4491-da79-249af82b2cbf"
   },
   "outputs": [
    {
     "name": "stdout",
     "output_type": "stream",
     "text": [
      "        Date Ticker  Adj Close      Close       High        Low       Open  \\\n",
      "0 2000-01-03      A  43.532211  51.502148  56.464592  48.193848  56.330471   \n",
      "1 2000-01-03   AAPL   0.844981   0.999442   1.004464   0.907924   0.936384   \n",
      "2 2000-01-03    ABT   8.327242  15.711531  16.160433  15.599306  15.823756   \n",
      "3 2000-01-03   ACGL   1.277778   1.277778   1.416667   1.263889   1.409722   \n",
      "4 2000-01-03   ADBE  16.274673  16.390625  16.875000  16.062500  16.812500   \n",
      "\n",
      "        Volume Symbol                       Name  ... Full Time Employees  \\\n",
      "0    4674353.0      A  Agilent Technologies Inc.  ...              18,000   \n",
      "1  535796800.0   AAPL                 Apple Inc.  ...             150,000   \n",
      "2   10635087.0    ABT        Abbott Laboratories  ...             114,000   \n",
      "3     433800.0   ACGL     Arch Capital Group Ltd  ...               6,400   \n",
      "4    7384400.0   ADBE                 Adobe Inc.  ...              29,945   \n",
      "\n",
      "                                         Description Total ESG Risk score  \\\n",
      "0  Agilent Technologies, Inc. provides applicatio...                 13.6   \n",
      "1  Apple Inc. designs, manufactures, and markets ...                 17.2   \n",
      "2  Abbott Laboratories, together with its subsidi...                 24.8   \n",
      "3  Arch Capital Group Ltd., together with its sub...                 22.5   \n",
      "4  Adobe Inc., together with its subsidiaries, op...                 13.1   \n",
      "\n",
      "  Environment Risk Score Governance Risk Score  Social Risk Score  \\\n",
      "0                    1.1                   6.1                6.4   \n",
      "1                    0.5                   9.4                7.4   \n",
      "2                    2.3                   8.3               14.2   \n",
      "3                    1.5                  10.9               10.1   \n",
      "4                    1.9                   5.2                6.0   \n",
      "\n",
      "               Controversy Level  Controversy Score  ESG Risk Percentile  \\\n",
      "0     Moderate Controversy Level                2.0       8th percentile   \n",
      "1  Significant Controversy Level                3.0      18th percentile   \n",
      "2  Significant Controversy Level                3.0      48th percentile   \n",
      "3     Moderate Controversy Level                2.0      38th percentile   \n",
      "4     Moderate Controversy Level                2.0       7th percentile   \n",
      "\n",
      "  ESG Risk Level  \n",
      "0            Low  \n",
      "1            Low  \n",
      "2         Medium  \n",
      "3         Medium  \n",
      "4            Low  \n",
      "\n",
      "[5 rows x 23 columns]\n"
     ]
    }
   ],
   "source": [
    "# Convert ESG data Date column to datetime format if necessary\n",
    "if 'Date' in esg_data.columns:\n",
    "    esg_data['Date'] = pd.to_datetime(esg_data['Date'])\n",
    "\n",
    "# Merge stock data with ESG scores\n",
    "combined_data = pd.merge(stock_data, esg_data, how='left', left_on='Ticker', right_on='Symbol')\n",
    "\n",
    "# Display the combined dataset\n",
    "print(combined_data.head())\n",
    "\n",
    "# Save the combined data to a new CSV file if needed\n",
    "combined_data.to_csv('combined_stock_esg_data.csv', index=False)\n"
   ]
  },
  {
   "cell_type": "code",
   "execution_count": 5,
   "metadata": {
    "colab": {
     "base_uri": "https://localhost:8080/"
    },
    "id": "jgEG2dVXTBjd",
    "outputId": "108025c9-3eae-4048-f881-bd12b673ef00"
   },
   "outputs": [
    {
     "name": "stdout",
     "output_type": "stream",
     "text": [
      "<class 'pandas.core.frame.DataFrame'>\n",
      "RangeIndex: 2747762 entries, 0 to 2747761\n",
      "Data columns (total 23 columns):\n",
      " #   Column                  Dtype         \n",
      "---  ------                  -----         \n",
      " 0   Date                    datetime64[ns]\n",
      " 1   Ticker                  object        \n",
      " 2   Adj Close               float64       \n",
      " 3   Close                   float64       \n",
      " 4   High                    float64       \n",
      " 5   Low                     float64       \n",
      " 6   Open                    float64       \n",
      " 7   Volume                  float64       \n",
      " 8   Symbol                  object        \n",
      " 9   Name                    object        \n",
      " 10  Address                 object        \n",
      " 11  Sector                  object        \n",
      " 12  Industry                object        \n",
      " 13  Full Time Employees     object        \n",
      " 14  Description             object        \n",
      " 15  Total ESG Risk score    float64       \n",
      " 16  Environment Risk Score  float64       \n",
      " 17  Governance Risk Score   float64       \n",
      " 18  Social Risk Score       float64       \n",
      " 19  Controversy Level       object        \n",
      " 20  Controversy Score       float64       \n",
      " 21  ESG Risk Percentile     object        \n",
      " 22  ESG Risk Level          object        \n",
      "dtypes: datetime64[ns](1), float64(11), object(11)\n",
      "memory usage: 482.2+ MB\n",
      "None\n",
      "\n",
      "Missing Values in Each Column:\n",
      " Date                           0\n",
      "Ticker                         0\n",
      "Adj Close                      0\n",
      "Close                          0\n",
      "High                           0\n",
      "Low                            0\n",
      "Open                           0\n",
      "Volume                         0\n",
      "Symbol                         0\n",
      "Name                           0\n",
      "Address                        0\n",
      "Sector                         0\n",
      "Industry                       0\n",
      "Full Time Employees        22581\n",
      "Description                    0\n",
      "Total ESG Risk score      277544\n",
      "Environment Risk Score    277544\n",
      "Governance Risk Score     277544\n",
      "Social Risk Score         277544\n",
      "Controversy Level         277544\n",
      "Controversy Score         427010\n",
      "ESG Risk Percentile       277544\n",
      "ESG Risk Level            277544\n",
      "dtype: int64\n",
      "\n",
      "Number of Duplicate Rows: 0\n"
     ]
    }
   ],
   "source": [
    "# Check initial data information\n",
    "print(combined_data.info())\n",
    "\n",
    "# Check for missing values\n",
    "missing_values = combined_data.isnull().sum()\n",
    "print(\"\\nMissing Values in Each Column:\\n\", missing_values)\n",
    "\n",
    "# Check for duplicates\n",
    "duplicates = combined_data.duplicated().sum()\n",
    "print(\"\\nNumber of Duplicate Rows:\", duplicates)"
   ]
  },
  {
   "cell_type": "markdown",
   "metadata": {
    "id": "y-y4M0zoKbfr"
   },
   "source": [
    "### **Missing Values Heatmap Before Cleaning**"
   ]
  },
  {
   "cell_type": "code",
   "execution_count": 7,
   "metadata": {
    "colab": {
     "base_uri": "https://localhost:8080/",
     "height": 696
    },
    "id": "iXA2r8NQvySK",
    "outputId": "8bf90604-66c6-4590-bba1-f153c5e94bd9"
   },
   "outputs": [
    {
     "data": {
      "image/png": "[encoded data removed]",
      "text/plain": [
       "<Figure size 1200x600 with 1 Axes>"
      ]
     },
     "metadata": {},
     "output_type": "display_data"
    }
   ],
   "source": [
    "import matplotlib.pyplot as plt\n",
    "import seaborn as sns\n",
    "\n",
    "# Plot missing values heatmap before cleaning\n",
    "plt.figure(figsize=(12, 6))\n",
    "sns.heatmap(combined_data.isnull(), cbar=False, cmap='viridis')\n",
    "plt.title('Missing Values Heatmap Before Cleaning')\n",
    "plt.show()"
   ]
  },
  {
   "cell_type": "markdown",
   "metadata": {
    "id": "wSZOfDYyIsUz"
   },
   "source": [
    "- **Observation**: The heatmap reveals substantial missing values in several columns, particularly in ESG-related fields such as Total ESG Risk score, Environment Risk Score, Governance Risk Score, and Social Risk Score. This indicates the need for data cleaning to ensure robust analysis."
   ]
  },
  {
   "cell_type": "code",
   "execution_count": 8,
   "metadata": {
    "colab": {
     "base_uri": "https://localhost:8080/"
    },
    "id": "5T4WXATaVFSx",
    "outputId": "5038f623-3a44-4917-c6eb-0a6632f1ce3b"
   },
   "outputs": [
    {
     "name": "stdout",
     "output_type": "stream",
     "text": [
      "<class 'pandas.core.frame.DataFrame'>\n",
      "Index: 2304332 entries, 0 to 2747761\n",
      "Data columns (total 23 columns):\n",
      " #   Column                  Dtype         \n",
      "---  ------                  -----         \n",
      " 0   Date                    datetime64[ns]\n",
      " 1   Ticker                  object        \n",
      " 2   Adj Close               float64       \n",
      " 3   Close                   float64       \n",
      " 4   High                    float64       \n",
      " 5   Low                     float64       \n",
      " 6   Open                    float64       \n",
      " 7   Volume                  float64       \n",
      " 8   Symbol                  object        \n",
      " 9   Name                    object        \n",
      " 10  Address                 object        \n",
      " 11  Sector                  object        \n",
      " 12  Industry                object        \n",
      " 13  Full Time Employees     object        \n",
      " 14  Description             object        \n",
      " 15  Total ESG Risk score    float64       \n",
      " 16  Environment Risk Score  float64       \n",
      " 17  Governance Risk Score   float64       \n",
      " 18  Social Risk Score       float64       \n",
      " 19  Controversy Level       object        \n",
      " 20  Controversy Score       float64       \n",
      " 21  ESG Risk Percentile     object        \n",
      " 22  ESG Risk Level          object        \n",
      "dtypes: datetime64[ns](1), float64(11), object(11)\n",
      "memory usage: 421.9+ MB\n",
      "\n",
      "Data Info After Dropping Missing Values:\n",
      " None\n",
      "\n",
      "Missing Values in Each Column After Cleaning:\n",
      " Date                      0\n",
      "Ticker                    0\n",
      "Adj Close                 0\n",
      "Close                     0\n",
      "High                      0\n",
      "Low                       0\n",
      "Open                      0\n",
      "Volume                    0\n",
      "Symbol                    0\n",
      "Name                      0\n",
      "Address                   0\n",
      "Sector                    0\n",
      "Industry                  0\n",
      "Full Time Employees       0\n",
      "Description               0\n",
      "Total ESG Risk score      0\n",
      "Environment Risk Score    0\n",
      "Governance Risk Score     0\n",
      "Social Risk Score         0\n",
      "Controversy Level         0\n",
      "Controversy Score         0\n",
      "ESG Risk Percentile       0\n",
      "ESG Risk Level            0\n",
      "dtype: int64\n"
     ]
    }
   ],
   "source": [
    "# Drop rows with missing values\n",
    "cleaned_data = combined_data.dropna()\n",
    "\n",
    "# Check data information after dropping missing values\n",
    "print(\"\\nData Info After Dropping Missing Values:\\n\", cleaned_data.info())\n",
    "\n",
    "# Check for missing values again to ensure they have been dropped\n",
    "missing_values_after_cleaning = cleaned_data.isnull().sum()\n",
    "print(\"\\nMissing Values in Each Column After Cleaning:\\n\", missing_values_after_cleaning)\n"
   ]
  },
  {
   "cell_type": "code",
   "execution_count": 14,
   "metadata": {
    "colab": {
     "base_uri": "https://localhost:8080/"
    },
    "id": "HFy9Gk78V-bE",
    "outputId": "f4af8b1d-8940-4f5f-f3fa-1c19fad2a0ba"
   },
   "outputs": [
    {
     "name": "stdout",
     "output_type": "stream",
     "text": [
      "\n",
      "Cleaned Combined Data:\n",
      "          Date Ticker  Adj Close      Close       High        Low       Open  \\\n",
      "0  2000-01-03      A  43.532211  51.502148  56.464592  48.193848  56.330471   \n",
      "1  2000-01-03   AAPL   0.844981   0.999442   1.004464   0.907924   0.936384   \n",
      "2  2000-01-03    ABT   8.327242  15.711531  16.160433  15.599306  15.823756   \n",
      "3  2000-01-03   ACGL   1.277778   1.277778   1.416667   1.263889   1.409722   \n",
      "4  2000-01-03   ADBE  16.274673  16.390625  16.875000  16.062500  16.812500   \n",
      "\n",
      "        Volume Symbol                       Name  ...  \\\n",
      "0    4674353.0      A  Agilent Technologies Inc.  ...   \n",
      "1  535796800.0   AAPL                 Apple Inc.  ...   \n",
      "2   10635087.0    ABT        Abbott Laboratories  ...   \n",
      "3     433800.0   ACGL     Arch Capital Group Ltd  ...   \n",
      "4    7384400.0   ADBE                 Adobe Inc.  ...   \n",
      "\n",
      "                                         Description Total ESG Risk score  \\\n",
      "0  Agilent Technologies, Inc. provides applicatio...                 13.6   \n",
      "1  Apple Inc. designs, manufactures, and markets ...                 17.2   \n",
      "2  Abbott Laboratories, together with its subsidi...                 24.8   \n",
      "3  Arch Capital Group Ltd., together with its sub...                 22.5   \n",
      "4  Adobe Inc., together with its subsidiaries, op...                 13.1   \n",
      "\n",
      "  Environment Risk Score Governance Risk Score Social Risk Score  \\\n",
      "0                    1.1                   6.1               6.4   \n",
      "1                    0.5                   9.4               7.4   \n",
      "2                    2.3                   8.3              14.2   \n",
      "3                    1.5                  10.9              10.1   \n",
      "4                    1.9                   5.2               6.0   \n",
      "\n",
      "               Controversy Level  Controversy Score  ESG Risk Percentile  \\\n",
      "0     Moderate Controversy Level                2.0       8th percentile   \n",
      "1  Significant Controversy Level                3.0      18th percentile   \n",
      "2  Significant Controversy Level                3.0      48th percentile   \n",
      "3     Moderate Controversy Level                2.0      38th percentile   \n",
      "4     Moderate Controversy Level                2.0       7th percentile   \n",
      "\n",
      "   ESG Risk Level   Rank  \n",
      "0             Low  161.5  \n",
      "1             Low   42.0  \n",
      "2          Medium   63.5  \n",
      "3          Medium   19.0  \n",
      "4             Low  248.5  \n",
      "\n",
      "[5 rows x 24 columns]\n"
     ]
    }
   ],
   "source": [
    "# Save the cleaned combined data to a new CSV file\n",
    "cleaned_data.to_csv('cleaned_combined_stock_esg_data.csv', index=False)\n",
    "\n",
    "# Display the first few rows of the cleaned data\n",
    "print(\"\\nCleaned Combined Data:\\n\", cleaned_data.head())"
   ]
  },
  {
   "cell_type": "markdown",
   "metadata": {
    "id": "Or3PxLvMKX7D"
   },
   "source": [
    "### **Stock Prices Over Time**"
   ]
  },
  {
   "cell_type": "code",
   "execution_count": 11,
   "metadata": {
    "colab": {
     "base_uri": "https://localhost:8080/",
     "height": 564
    },
    "id": "T6D-w70Jvq96",
    "outputId": "0ab179f0-c0c4-4409-c371-56bed17bc251"
   },
   "outputs": [
    {
     "data": {
      "image/png": "[encoded data removed]",
      "text/plain": [
       "<Figure size 1200x600 with 1 Axes>"
      ]
     },
     "metadata": {},
     "output_type": "display_data"
    }
   ],
   "source": [
    "# Plot stock prices of a few stocks over time\n",
    "sample_tickers = valid_tickers[:5]\n",
    "sample_data = stock_data[stock_data['Ticker'].isin(sample_tickers)]\n",
    "plt.figure(figsize=(12, 6))\n",
    "for ticker in sample_tickers:\n",
    "    plt.plot(sample_data[sample_data['Ticker'] == ticker]['Date'], sample_data[sample_data['Ticker'] == ticker]['Adj Close'], label=ticker)\n",
    "plt.title('Stock Prices Over Time')\n",
    "plt.xlabel('Date')\n",
    "plt.ylabel('Adjusted Close Price')\n",
    "plt.legend()\n",
    "plt.show()"
   ]
  },
  {
   "cell_type": "markdown",
   "metadata": {
    "id": "EW64-8x4KVDi"
   },
   "source": [
    "- **Observation**: The plot of stock prices for selected companies (e.g., ENPH, EMN, DPZ, DAY, DVA) from 2000 to 2024 illustrate significant growth for ENPH and DPZ, reflecting strong market performance. In contrast, other stocks show more modest growth or volatility, emphasizing the varied market behavior among different companies."
   ]
  },
  {
   "cell_type": "markdown",
   "metadata": {
    "id": "I2BJPOmGKRTz"
   },
   "source": [
    "### **Distribution of Total ESG Risk Scores**"
   ]
  },
  {
   "cell_type": "code",
   "execution_count": 12,
   "metadata": {
    "colab": {
     "base_uri": "https://localhost:8080/",
     "height": 564
    },
    "id": "TbNzh1DswYfT",
    "outputId": "e1e8a7b5-962b-4063-d3fb-5e98cb1c6e21"
   },
   "outputs": [
    {
     "data": {
      "image/png": "[encoded data removed]",
      "text/plain": [
       "<Figure size 1200x600 with 1 Axes>"
      ]
     },
     "metadata": {},
     "output_type": "display_data"
    }
   ],
   "source": [
    "# Plot ESG scores distribution\n",
    "plt.figure(figsize=(12, 6))\n",
    "sns.histplot(combined_data['Total ESG Risk score'].dropna(), bins=30, kde=True)\n",
    "plt.title('Distribution of Total ESG Risk Scores')\n",
    "plt.xlabel('Total ESG Risk Score')\n",
    "plt.ylabel('Frequency')\n",
    "plt.show()"
   ]
  },
  {
   "cell_type": "markdown",
   "metadata": {
    "id": "eRlKq2q4Ae_N"
   },
   "source": [
    "- **Observation**: The histogram of ESG risk scores display a wide distribution with peaks around lower values, indicating that many companies have relatively low ESG risk scores. This suggests a general trend towards better ESG performance within the S&P 500 companies.\n"
   ]
  },
  {
   "cell_type": "markdown",
   "metadata": {
    "id": "3jIhz6qmXtcE"
   },
   "source": [
    "## **2. Portfolio Construction**"
   ]
  },
  {
   "cell_type": "code",
   "execution_count": 15,
   "metadata": {
    "colab": {
     "base_uri": "https://localhost:8080/"
    },
    "id": "Z3QekvtMYrb7",
    "outputId": "2fac3fbb-1abe-42e1-f92a-7db79f355b17"
   },
   "outputs": [
    {
     "name": "stdout",
     "output_type": "stream",
     "text": [
      "\n",
      "Top ESG Portfolio:\n",
      "           Date Ticker  Adj Close      Close       High        Low       Open  \\\n",
      "6   2000-01-03    ADM   6.361246  10.884354  10.941043  10.770975  10.884354   \n",
      "23  2000-01-03    APA  10.858119  14.772727  15.882035  14.745671  15.882035   \n",
      "26  2000-01-03    ATO   7.975042  20.062500  20.312500  20.000000  20.000000   \n",
      "31  2000-01-03     BA  25.940289  40.187500  41.687500  39.812500  41.437500   \n",
      "53  2000-01-03    CAT  12.809786  24.312500  24.500000  23.843750  23.843750   \n",
      "\n",
      "       Volume Symbol                            Name  ...  \\\n",
      "6    984753.0    ADM  Archer Daniels Midland Company  ...   \n",
      "23  1082697.0    APA                 Apa Corporation  ...   \n",
      "26    36600.0    ATO        Atmos Energy Corporation  ...   \n",
      "31  2638200.0     BA                  Boeing Company  ...   \n",
      "53  5055000.0    CAT                Caterpillar Inc.  ...   \n",
      "\n",
      "                                          Description Total ESG Risk score  \\\n",
      "6   Archer-Daniels-Midland Company engages in the ...                 31.8   \n",
      "23  APA Corporation, an independent energy company...                 38.8   \n",
      "26  Atmos Energy Corporation, together with its su...                 34.6   \n",
      "31  The Boeing Company, together with its subsidia...                 39.6   \n",
      "53  Caterpillar Inc. manufactures and sells constr...                 36.2   \n",
      "\n",
      "   Environment Risk Score Governance Risk Score Social Risk Score  \\\n",
      "6                    16.6                   5.0              10.1   \n",
      "23                   22.0                   8.0               8.9   \n",
      "26                   14.8                   6.4              13.4   \n",
      "31                    8.8                   8.3              22.5   \n",
      "53                   10.4                   8.1              17.7   \n",
      "\n",
      "                Controversy Level  Controversy Score  ESG Risk Percentile  \\\n",
      "6   Significant Controversy Level                3.0      75th percentile   \n",
      "23     Moderate Controversy Level                2.0      83rd percentile   \n",
      "26     Moderate Controversy Level                2.0      83rd percentile   \n",
      "31         High Controversy Level                4.0      91st percentile   \n",
      "53         High Controversy Level                4.0      86th percentile   \n",
      "\n",
      "    ESG Risk Level  Rank  \n",
      "6             High  28.5  \n",
      "23            High   5.0  \n",
      "26            High  16.0  \n",
      "31            High   4.0  \n",
      "53            High  10.5  \n",
      "\n",
      "[5 rows x 24 columns]\n",
      "\n",
      "Bottom ESG Portfolio:\n",
      "           Date Ticker  Adj Close      Close       High        Low       Open  \\\n",
      "4   2000-01-03   ADBE  16.274673  16.390625  16.875000  16.062500  16.812500   \n",
      "17  2000-01-03   AMAT  23.236876  31.625000  32.093750  30.343750  32.093750   \n",
      "20  2000-01-03    AMT  22.544762  29.312500  30.625000  29.000000  30.500000   \n",
      "24  2000-01-03    APD  17.094694  30.353840  31.163275  30.296022  30.816374   \n",
      "27  2000-01-03    AVB  12.759315  33.937500  34.250000  33.812500  34.187500   \n",
      "\n",
      "        Volume Symbol                            Name  ...  \\\n",
      "4    7384400.0   ADBE                      Adobe Inc.  ...   \n",
      "17  14356400.0   AMAT           Applied Materials Inc  ...   \n",
      "20    433900.0    AMT      American Tower Corporation  ...   \n",
      "24    595847.0    APD  Air Products & Chemicals, Inc.  ...   \n",
      "27     61900.0    AVB     Avalonbay Communities, Inc.  ...   \n",
      "\n",
      "                                          Description Total ESG Risk score  \\\n",
      "4   Adobe Inc., together with its subsidiaries, op...                 13.1   \n",
      "17  Applied Materials, Inc. engages in the provisi...                 12.7   \n",
      "20  American Tower, one of the largest global REIT...                 10.9   \n",
      "24  Air Products and Chemicals, Inc. provides atmo...                 12.3   \n",
      "27  As of December 31, 2023, the Company owned or ...                  9.8   \n",
      "\n",
      "   Environment Risk Score Governance Risk Score Social Risk Score  \\\n",
      "4                     1.9                   5.2               6.0   \n",
      "17                    4.5                   5.3               3.0   \n",
      "20                    2.9                   5.2               2.8   \n",
      "24                    7.4                   3.3               1.5   \n",
      "27                    3.0                   4.8               2.0   \n",
      "\n",
      "             Controversy Level  Controversy Score  ESG Risk Percentile  \\\n",
      "4   Moderate Controversy Level                2.0       7th percentile   \n",
      "17       Low Controversy Level                1.0       6th percentile   \n",
      "20       Low Controversy Level                1.0       4th percentile   \n",
      "24       Low Controversy Level                1.0       5th percentile   \n",
      "27       Low Controversy Level                1.0       3rd percentile   \n",
      "\n",
      "    ESG Risk Level   Rank  \n",
      "4              Low  282.5  \n",
      "17             Low  288.0  \n",
      "20             Low  305.5  \n",
      "24             Low  294.0  \n",
      "27      Negligible  309.0  \n",
      "\n",
      "[5 rows x 24 columns]\n"
     ]
    }
   ],
   "source": [
    "# Load the cleaned combined data\n",
    "cleaned_data_path = 'cleaned_combined_stock_esg_data.csv'\n",
    "cleaned_data = pd.read_csv(cleaned_data_path)\n",
    "\n",
    "# Ensure data is sorted by Date and Ticker\n",
    "cleaned_data = cleaned_data.sort_values(by=['Date', 'Ticker'])\n",
    "\n",
    "# Function to create 'Top' and 'Bottom' portfolios\n",
    "def create_portfolios(data, score_column, top_percentile=0.1, bottom_percentile=0.1):\n",
    "    # Rank the data based on the specified score column\n",
    "    data['Rank'] = data.groupby('Date')[score_column].rank(ascending=False)\n",
    "    total_count = data.groupby('Date')['Rank'].transform('count')\n",
    "\n",
    "    # Create 'Top' and 'Bottom' portfolios\n",
    "    top_portfolio = data[data['Rank'] <= total_count * top_percentile]\n",
    "    bottom_portfolio = data[data['Rank'] > total_count * (1 - bottom_percentile)]\n",
    "\n",
    "    return top_portfolio, bottom_portfolio\n",
    "\n",
    "# Create 'Top' and 'Bottom' portfolios based on Total ESG Risk score\n",
    "top_portfolio_esg, bottom_portfolio_esg = create_portfolios(cleaned_data, 'Total ESG Risk score')\n",
    "\n",
    "# Create portfolios based on individual components\n",
    "top_portfolio_env, bottom_portfolio_env = create_portfolios(cleaned_data, 'Environment Risk Score')\n",
    "top_portfolio_soc, bottom_portfolio_soc = create_portfolios(cleaned_data, 'Social Risk Score')\n",
    "top_portfolio_gov, bottom_portfolio_gov = create_portfolios(cleaned_data, 'Governance Risk Score')\n",
    "\n",
    "# Save the portfolios to CSV files\n",
    "top_portfolio_esg.to_csv('top_portfolio_esg.csv', index=False)\n",
    "bottom_portfolio_esg.to_csv('bottom_portfolio_esg.csv', index=False)\n",
    "top_portfolio_env.to_csv('top_portfolio_env.csv', index=False)\n",
    "bottom_portfolio_env.to_csv('bottom_portfolio_env.csv', index=False)\n",
    "top_portfolio_soc.to_csv('top_portfolio_soc.csv', index=False)\n",
    "bottom_portfolio_soc.to_csv('bottom_portfolio_soc.csv', index=False)\n",
    "top_portfolio_gov.to_csv('top_portfolio_gov.csv', index=False)\n",
    "bottom_portfolio_gov.to_csv('bottom_portfolio_gov.csv', index=False)\n",
    "\n",
    "# Display the first few rows of the 'Top' ESG portfolio\n",
    "print(\"\\nTop ESG Portfolio:\\n\", top_portfolio_esg.head())\n",
    "# Display the first few rows of the 'Bottom' ESG portfolio\n",
    "print(\"\\nBottom ESG Portfolio:\\n\", bottom_portfolio_esg.head())\n"
   ]
  },
  {
   "cell_type": "markdown",
   "metadata": {
    "id": "iCFHR3-ajr9t"
   },
   "source": [
    "## **3. Performance Measurement**"
   ]
  },
  {
   "cell_type": "markdown",
   "metadata": {
    "id": "qK0IYw51j2Vq"
   },
   "source": [
    "### **a): Cleaning the Risk-Free Rate Data (DTB3)**"
   ]
  },
  {
   "cell_type": "code",
   "execution_count": 20,
   "metadata": {
    "colab": {
     "base_uri": "https://localhost:8080/"
    },
    "id": "b3BzfZtmj7My",
    "outputId": "0be5f05c-cf47-49c2-a2e1-c1c57c3bd03f"
   },
   "outputs": [
    {
     "name": "stdout",
     "output_type": "stream",
     "text": [
      "Risk-Free Rate Data (First Few Rows):\n",
      "              DTB3\n",
      "DATE             \n",
      "2000-01-03  5.270\n",
      "2000-01-04  5.270\n",
      "2000-01-05  5.280\n",
      "2000-01-06  5.250\n",
      "2000-01-07  5.220\n",
      "\n",
      "Missing Values in Risk-Free Rate Data:\n",
      " DTB3    0\n",
      "dtype: int64\n",
      "\n",
      "Number of Duplicate Rows in Risk-Free Rate Data: 5540\n"
     ]
    }
   ],
   "source": [
    "# Load the risk-free rate data\n",
    "risk_free_rate = pd.read_csv('DTB3.csv', index_col='DATE', parse_dates=True)\n",
    "\n",
    "# Display the first few rows\n",
    "print(\"Risk-Free Rate Data (First Few Rows):\\n\", risk_free_rate.head())\n",
    "\n",
    "# Check for missing values\n",
    "missing_values_rf = risk_free_rate.isnull().sum()\n",
    "print(\"\\nMissing Values in Risk-Free Rate Data:\\n\", missing_values_rf)\n",
    "\n",
    "# Check for duplicates\n",
    "duplicates_rf = risk_free_rate.duplicated().sum()\n",
    "print(\"\\nNumber of Duplicate Rows in Risk-Free Rate Data:\", duplicates_rf)\n"
   ]
  },
  {
   "cell_type": "code",
   "execution_count": 21,
   "metadata": {
    "colab": {
     "base_uri": "https://localhost:8080/"
    },
    "id": "glaSVQsslroc",
    "outputId": "56d7158e-9eb8-43cc-e70b-1d95529e4115"
   },
   "outputs": [
    {
     "name": "stdout",
     "output_type": "stream",
     "text": [
      "\n",
      "Number of Duplicate Rows in Risk-Free Rate Data: 0\n",
      "Risk-Free Rate Data (After Cleaning):\n",
      "              DTB3\n",
      "DATE             \n",
      "2000-01-03  5.270\n",
      "2000-01-05  5.280\n",
      "2000-01-06  5.250\n",
      "2000-01-07  5.220\n",
      "2000-01-10  5.240\n"
     ]
    }
   ],
   "source": [
    "# Remove duplicate rows\n",
    "risk_free_rate = risk_free_rate.drop_duplicates()\n",
    "\n",
    "# Check for duplicates\n",
    "duplicates_rf = risk_free_rate.duplicated().sum()\n",
    "print(\"\\nNumber of Duplicate Rows in Risk-Free Rate Data:\", duplicates_rf)\n",
    "\n",
    "# Display the cleaned data\n",
    "print(\"Risk-Free Rate Data (After Cleaning):\\n\", risk_free_rate.head())\n",
    "\n",
    "# Save cleaned data to CSV if needed\n",
    "risk_free_rate.to_csv('cleaned_DTB3.csv')\n"
   ]
  },
  {
   "cell_type": "markdown",
   "metadata": {
    "id": "jVWStdwDj7kS"
   },
   "source": [
    "### **b): Cleaning the Fama-French Factors Data (F-F_Research_Data_Factors_daily)**"
   ]
  },
  {
   "cell_type": "code",
   "execution_count": 22,
   "metadata": {
    "colab": {
     "base_uri": "https://localhost:8080/"
    },
    "id": "QLYP3BWKj_9K",
    "outputId": "8c312e91-c068-4448-acd4-64e0ea1bf520"
   },
   "outputs": [
    {
     "name": "stdout",
     "output_type": "stream",
     "text": [
      "\n",
      "Fama-French Factors Data (First Few Rows):\n",
      "             Mkt-RF   SMB   HML     RF\n",
      "1926-07-01    0.10 -0.24 -0.28  0.009\n",
      "1926-07-02    0.45 -0.32 -0.08  0.009\n",
      "1926-07-06    0.17  0.27 -0.35  0.009\n",
      "1926-07-07    0.09 -0.59  0.03  0.009\n",
      "1926-07-08    0.21 -0.36  0.15  0.009\n",
      "\n",
      "Missing Values in Fama-French Factors Data:\n",
      " Mkt-RF    0\n",
      "SMB       0\n",
      "HML       0\n",
      "RF        0\n",
      "dtype: int64\n",
      "\n",
      "Number of Duplicate Rows in Fama-French Factors Data: 8\n"
     ]
    }
   ],
   "source": [
    "# Load the Fama-French factors data\n",
    "ff_factors = pd.read_csv('F-F_Research_Data_Factors_daily.csv', index_col=0, parse_dates=True)\n",
    "\n",
    "# Display the first few rows\n",
    "print(\"\\nFama-French Factors Data (First Few Rows):\\n\", ff_factors.head())\n",
    "\n",
    "# Check for missing values\n",
    "missing_values_ff = ff_factors.isnull().sum()\n",
    "print(\"\\nMissing Values in Fama-French Factors Data:\\n\", missing_values_ff)\n",
    "\n",
    "# Check for duplicates\n",
    "duplicates_ff = ff_factors.duplicated().sum()\n",
    "print(\"\\nNumber of Duplicate Rows in Fama-French Factors Data:\", duplicates_ff)\n"
   ]
  },
  {
   "cell_type": "code",
   "execution_count": 23,
   "metadata": {
    "colab": {
     "base_uri": "https://localhost:8080/"
    },
    "id": "uZw8JeoBmPV7",
    "outputId": "5533a09f-3e96-40f9-dac3-3b3a328212ca"
   },
   "outputs": [
    {
     "name": "stdout",
     "output_type": "stream",
     "text": [
      "\n",
      "Number of Duplicate Rows in Fama-French Factors Data: 0\n",
      "\n",
      "Fama-French Factors Data (After Cleaning):\n",
      "             Mkt-RF   SMB   HML     RF\n",
      "1926-07-01    0.10 -0.24 -0.28  0.009\n",
      "1926-07-02    0.45 -0.32 -0.08  0.009\n",
      "1926-07-06    0.17  0.27 -0.35  0.009\n",
      "1926-07-07    0.09 -0.59  0.03  0.009\n",
      "1926-07-08    0.21 -0.36  0.15  0.009\n"
     ]
    }
   ],
   "source": [
    "# Remove duplicate rows\n",
    "ff_factors = ff_factors.drop_duplicates()\n",
    "\n",
    "# Check for duplicates\n",
    "duplicates_ff = ff_factors.duplicated().sum()\n",
    "print(\"\\nNumber of Duplicate Rows in Fama-French Factors Data:\", duplicates_ff)\n",
    "\n",
    "# Display the cleaned data\n",
    "print(\"\\nFama-French Factors Data (After Cleaning):\\n\", ff_factors.head())\n",
    "\n",
    "# Save cleaned data to CSV if needed\n",
    "ff_factors.to_csv('cleaned_FF_factors.csv')\n"
   ]
  },
  {
   "cell_type": "markdown",
   "metadata": {
    "id": "gF7LgFXJ17oV"
   },
   "source": [
    "### **c): Data proceessing for modelling**"
   ]
  },
  {
   "cell_type": "code",
   "execution_count": 27,
   "metadata": {
    "colab": {
     "base_uri": "https://localhost:8080/"
    },
    "id": "Toa3u5terksc",
    "outputId": "659351b2-3c9d-4e99-89dd-3bef1a2b10a9"
   },
   "outputs": [
    {
     "name": "stderr",
     "output_type": "stream",
     "text": [
      "\r",
      "[*********************100%%**********************]  1 of 1 completed\n"
     ]
    }
   ],
   "source": [
    "import statsmodels.api as sm\n",
    "import numpy as np\n",
    "\n",
    "# Function to calculate portfolio returns\n",
    "def calculate_portfolio_returns(portfolio):\n",
    "    portfolio = portfolio.copy()  # Avoid SettingWithCopyWarning by working on a copy\n",
    "    portfolio['Adj Close'] = pd.to_numeric(portfolio['Adj Close'], errors='coerce')\n",
    "    portfolio['Return'] = portfolio.groupby('Ticker')['Adj Close'].pct_change()\n",
    "    portfolio_returns = portfolio.groupby('Date')['Return'].mean()\n",
    "    return portfolio_returns\n",
    "\n",
    "# Load the cleaned combined data\n",
    "cleaned_data_path = 'cleaned_combined_stock_esg_data.csv'\n",
    "cleaned_data = pd.read_csv(cleaned_data_path, parse_dates=['Date'])\n",
    "\n",
    "# Create 'Top' and 'Bottom' portfolios based on Total ESG Risk score\n",
    "top_portfolio_esg = pd.read_csv('top_portfolio_esg.csv', parse_dates=['Date'])\n",
    "bottom_portfolio_esg = pd.read_csv('bottom_portfolio_esg.csv', parse_dates=['Date'])\n",
    "\n",
    "# Calculate portfolio returns\n",
    "top_portfolio_esg_returns = calculate_portfolio_returns(top_portfolio_esg)\n",
    "bottom_portfolio_esg_returns = calculate_portfolio_returns(bottom_portfolio_esg)\n",
    "\n",
    "# Calculate returns for other portfolios\n",
    "top_portfolio_env = pd.read_csv('top_portfolio_env.csv', parse_dates=['Date'])\n",
    "bottom_portfolio_env = pd.read_csv('bottom_portfolio_env.csv', parse_dates=['Date'])\n",
    "top_portfolio_soc = pd.read_csv('top_portfolio_soc.csv', parse_dates=['Date'])\n",
    "bottom_portfolio_soc = pd.read_csv('bottom_portfolio_soc.csv', parse_dates=['Date'])\n",
    "top_portfolio_gov = pd.read_csv('top_portfolio_gov.csv', parse_dates=['Date'])\n",
    "bottom_portfolio_gov = pd.read_csv('bottom_portfolio_gov.csv', parse_dates=['Date'])\n",
    "\n",
    "top_portfolio_env_returns = calculate_portfolio_returns(top_portfolio_env)\n",
    "bottom_portfolio_env_returns = calculate_portfolio_returns(bottom_portfolio_env)\n",
    "top_portfolio_soc_returns = calculate_portfolio_returns(top_portfolio_soc)\n",
    "bottom_portfolio_soc_returns = calculate_portfolio_returns(bottom_portfolio_soc)\n",
    "top_portfolio_gov_returns = calculate_portfolio_returns(top_portfolio_gov)\n",
    "bottom_portfolio_gov_returns = calculate_portfolio_returns(bottom_portfolio_gov)\n",
    "\n",
    "# Load market data (e.g., S&P 500)\n",
    "market_data = yf.download('^GSPC', start=\"2000-01-01\", end=\"2024-06-30\")\n",
    "market_data['Market Return'] = market_data['Adj Close'].pct_change()\n",
    "\n",
    "# Load cleaned risk-free rate data\n",
    "risk_free_rate = pd.read_csv('cleaned_DTB3.csv', index_col='DATE', parse_dates=True)\n",
    "risk_free_rate['Risk-Free Rate'] = pd.to_numeric(risk_free_rate['DTB3'], errors='coerce') / 100 / 252\n",
    "\n",
    "# Prepare data for regression\n",
    "def prepare_regression_data(portfolio_returns, market_data, risk_free_rate):\n",
    "    regression_data = pd.DataFrame({\n",
    "        'Portfolio Return': portfolio_returns,\n",
    "        'Market Return': market_data['Market Return'],\n",
    "        'Risk-Free Rate': risk_free_rate['Risk-Free Rate']\n",
    "    }).dropna()\n",
    "\n",
    "    regression_data['Excess Portfolio Return'] = regression_data['Portfolio Return'] - regression_data['Risk-Free Rate']\n",
    "    regression_data['Excess Market Return'] = regression_data['Market Return'] - regression_data['Risk-Free Rate']\n",
    "\n",
    "    return regression_data\n",
    "\n",
    "top_portfolio_esg_regression_data = prepare_regression_data(top_portfolio_esg_returns, market_data, risk_free_rate)\n",
    "bottom_portfolio_esg_regression_data = prepare_regression_data(bottom_portfolio_esg_returns, market_data, risk_free_rate)\n",
    "\n",
    "# Prepare regression data for other portfolios\n",
    "top_portfolio_env_regression_data = prepare_regression_data(top_portfolio_env_returns, market_data, risk_free_rate)\n",
    "bottom_portfolio_env_regression_data = prepare_regression_data(bottom_portfolio_env_returns, market_data, risk_free_rate)\n",
    "top_portfolio_soc_regression_data = prepare_regression_data(top_portfolio_soc_returns, market_data, risk_free_rate)\n",
    "bottom_portfolio_soc_regression_data = prepare_regression_data(bottom_portfolio_soc_returns, market_data, risk_free_rate)\n",
    "top_portfolio_gov_regression_data = prepare_regression_data(top_portfolio_gov_returns, market_data, risk_free_rate)\n",
    "bottom_portfolio_gov_regression_data = prepare_regression_data(bottom_portfolio_gov_returns, market_data, risk_free_rate)"
   ]
  },
  {
   "cell_type": "markdown",
   "metadata": {
    "id": "B0zPnnuaLMQj"
   },
   "source": [
    "### **Market Returns Over Time**"
   ]
  },
  {
   "cell_type": "code",
   "execution_count": 28,
   "metadata": {
    "colab": {
     "base_uri": "https://localhost:8080/",
     "height": 564
    },
    "id": "2TgXC4eYxOgb",
    "outputId": "c4b65b33-8b8a-4543-b732-aeb74b843926"
   },
   "outputs": [
    {
     "data": {
      "image/png": "[encoded data removed]",
      "text/plain": [
       "<Figure size 1200x600 with 1 Axes>"
      ]
     },
     "metadata": {},
     "output_type": "display_data"
    }
   ],
   "source": [
    "# Plot market returns over time\n",
    "plt.figure(figsize=(12, 6))\n",
    "plt.plot(market_data.index, market_data['Market Return'], label='Market Return')\n",
    "plt.title('Market Returns Over Time')\n",
    "plt.xlabel('Date')\n",
    "plt.ylabel('Market Return')\n",
    "plt.legend()\n",
    "plt.show()"
   ]
  },
  {
   "cell_type": "markdown",
   "metadata": {
    "id": "YpGMHtVzLJMj"
   },
   "source": [
    "- **Observing**: The line plot of market returns over time is showing significant fluctuations, with notable spikes and drops around major economic events, such as the 2008 financial crisis and the COVID-19 pandemic in 2020. This plot is underscoring the volatility and cyclic nature of the market.\n",
    "\n"
   ]
  },
  {
   "cell_type": "markdown",
   "metadata": {
    "id": "Pvme7iT6LGwa"
   },
   "source": [
    "### **Portfolio Returns Over Time**"
   ]
  },
  {
   "cell_type": "code",
   "execution_count": 29,
   "metadata": {
    "colab": {
     "base_uri": "https://localhost:8080/",
     "height": 564
    },
    "id": "Eu9sw4wDxUeS",
    "outputId": "0b445202-7fa1-4c34-d801-41a3c0ea97e1"
   },
   "outputs": [
    {
     "data": {
      "image/png": "[encoded data removed]",
      "text/plain": [
       "<Figure size 1200x600 with 1 Axes>"
      ]
     },
     "metadata": {},
     "output_type": "display_data"
    }
   ],
   "source": [
    "# Plot portfolio returns over time\n",
    "plt.figure(figsize=(12, 6))\n",
    "plt.plot(top_portfolio_esg_returns.index, top_portfolio_esg_returns, label='Top ESG Portfolio Returns', color='blue')\n",
    "plt.plot(bottom_portfolio_esg_returns.index, bottom_portfolio_esg_returns, label='Bottom ESG Portfolio Returns', color='red')\n",
    "plt.title('Portfolio Returns Over Time')\n",
    "plt.xlabel('Date')\n",
    "plt.ylabel('Return')\n",
    "plt.legend()\n",
    "plt.show()"
   ]
  },
  {
   "cell_type": "markdown",
   "metadata": {
    "id": "2G2RZn4oD_7z"
   },
   "source": [
    "- **Observing**: The line plot of portfolio returns is illustrating that the top ESG portfolio (blue line) is generally exhibiting lower volatility compared to the bottom ESG portfolio (red line). Both portfolios are experiencing similar market shocks, but the top portfolio is showing more stability overall."
   ]
  },
  {
   "cell_type": "markdown",
   "metadata": {
    "id": "IvxEfV0S2fHz"
   },
   "source": [
    "### **d): CAPM Model**"
   ]
  },
  {
   "cell_type": "code",
   "execution_count": 31,
   "metadata": {
    "id": "EQ6d0Mvz1buc"
   },
   "outputs": [],
   "source": [
    "# CAPM Model\n",
    "def run_capm(regression_data):\n",
    "    X = sm.add_constant(regression_data['Excess Market Return'])\n",
    "    y = regression_data['Excess Portfolio Return']\n",
    "    capm_model = sm.OLS(y, X).fit()\n",
    "    return capm_model\n",
    "\n",
    "# Run CAPM for all portfolios\n",
    "top_portfolio_esg_capm = run_capm(top_portfolio_esg_regression_data)\n",
    "bottom_portfolio_esg_capm = run_capm(bottom_portfolio_esg_regression_data)\n",
    "top_portfolio_env_capm = run_capm(top_portfolio_env_regression_data)\n",
    "bottom_portfolio_env_capm = run_capm(bottom_portfolio_env_regression_data)\n",
    "top_portfolio_soc_capm = run_capm(top_portfolio_soc_regression_data)\n",
    "bottom_portfolio_soc_capm = run_capm(bottom_portfolio_soc_regression_data)\n",
    "top_portfolio_gov_capm = run_capm(top_portfolio_gov_regression_data)\n",
    "bottom_portfolio_gov_capm = run_capm(bottom_portfolio_gov_regression_data)\n"
   ]
  },
  {
   "cell_type": "markdown",
   "metadata": {
    "id": "jZl4LtpynDC2"
   },
   "source": [
    "### **Print CAPM results**"
   ]
  },
  {
   "cell_type": "code",
   "execution_count": 32,
   "metadata": {
    "colab": {
     "base_uri": "https://localhost:8080/"
    },
    "id": "zrldiTljnDck",
    "outputId": "106b04be-ead4-478f-843c-d337fbc57181"
   },
   "outputs": [
    {
     "name": "stdout",
     "output_type": "stream",
     "text": [
      "\n",
      "Top ESG Portfolio CAPM Results:\n",
      "                                OLS Regression Results                              \n",
      "===================================================================================\n",
      "Dep. Variable:     Excess Portfolio Return   R-squared:                       0.502\n",
      "Model:                                 OLS   Adj. R-squared:                  0.501\n",
      "Method:                      Least Squares   F-statistic:                     431.7\n",
      "Date:                     Tue, 30 Jul 2024   Prob (F-statistic):           8.28e-67\n",
      "Time:                             03:08:57   Log-Likelihood:                 1482.6\n",
      "No. Observations:                      430   AIC:                            -2961.\n",
      "Df Residuals:                          428   BIC:                            -2953.\n",
      "Df Model:                                1                                         \n",
      "Covariance Type:                 nonrobust                                         \n",
      "========================================================================================\n",
      "                           coef    std err          t      P>|t|      [0.025      0.975]\n",
      "----------------------------------------------------------------------------------------\n",
      "const                    0.0008      0.000      2.248      0.025       0.000       0.002\n",
      "Excess Market Return     0.6589      0.032     20.776      0.000       0.597       0.721\n",
      "==============================================================================\n",
      "Omnibus:                       13.406   Durbin-Watson:                   1.876\n",
      "Prob(Omnibus):                  0.001   Jarque-Bera (JB):               27.873\n",
      "Skew:                          -0.031   Prob(JB):                     8.86e-07\n",
      "Kurtosis:                       4.246   Cond. No.                         85.2\n",
      "==============================================================================\n",
      "\n",
      "Notes:\n",
      "[1] Standard Errors assume that the covariance matrix of the errors is correctly specified.\n"
     ]
    }
   ],
   "source": [
    "print(\"\\nTop ESG Portfolio CAPM Results:\\n\", top_portfolio_esg_capm.summary())\n"
   ]
  },
  {
   "cell_type": "code",
   "execution_count": 33,
   "metadata": {
    "colab": {
     "base_uri": "https://localhost:8080/"
    },
    "id": "Ngr58_B2nOuN",
    "outputId": "66b61564-ec62-4423-c39b-7e83c3524fba"
   },
   "outputs": [
    {
     "name": "stdout",
     "output_type": "stream",
     "text": [
      "\n",
      "Bottom ESG Portfolio CAPM Results:\n",
      "                                OLS Regression Results                              \n",
      "===================================================================================\n",
      "Dep. Variable:     Excess Portfolio Return   R-squared:                       0.784\n",
      "Model:                                 OLS   Adj. R-squared:                  0.783\n",
      "Method:                      Least Squares   F-statistic:                     1553.\n",
      "Date:                     Tue, 30 Jul 2024   Prob (F-statistic):          1.65e-144\n",
      "Time:                             03:09:13   Log-Likelihood:                 1628.1\n",
      "No. Observations:                      430   AIC:                            -3252.\n",
      "Df Residuals:                          428   BIC:                            -3244.\n",
      "Df Model:                                1                                         \n",
      "Covariance Type:                 nonrobust                                         \n",
      "========================================================================================\n",
      "                           coef    std err          t      P>|t|      [0.025      0.975]\n",
      "----------------------------------------------------------------------------------------\n",
      "const                    0.0010      0.000      3.915      0.000       0.001       0.002\n",
      "Excess Market Return     0.8912      0.023     39.412      0.000       0.847       0.936\n",
      "==============================================================================\n",
      "Omnibus:                       14.837   Durbin-Watson:                   2.122\n",
      "Prob(Omnibus):                  0.001   Jarque-Bera (JB):               32.944\n",
      "Skew:                          -0.012   Prob(JB):                     7.02e-08\n",
      "Kurtosis:                       4.356   Cond. No.                         85.2\n",
      "==============================================================================\n",
      "\n",
      "Notes:\n",
      "[1] Standard Errors assume that the covariance matrix of the errors is correctly specified.\n"
     ]
    }
   ],
   "source": [
    "print(\"\\nBottom ESG Portfolio CAPM Results:\\n\", bottom_portfolio_esg_capm.summary())\n"
   ]
  },
  {
   "cell_type": "code",
   "execution_count": 34,
   "metadata": {
    "colab": {
     "base_uri": "https://localhost:8080/"
    },
    "id": "2_QGdVZ5nRKE",
    "outputId": "d39bfb5d-34f4-4255-93f0-be430f38e1a6"
   },
   "outputs": [
    {
     "name": "stdout",
     "output_type": "stream",
     "text": [
      "\n",
      "Top ENV Portfolio CAPM Results:\n",
      "                                OLS Regression Results                              \n",
      "===================================================================================\n",
      "Dep. Variable:     Excess Portfolio Return   R-squared:                       0.411\n",
      "Model:                                 OLS   Adj. R-squared:                  0.409\n",
      "Method:                      Least Squares   F-statistic:                     298.2\n",
      "Date:                     Tue, 30 Jul 2024   Prob (F-statistic):           4.32e-51\n",
      "Time:                             03:09:24   Log-Likelihood:                 1451.0\n",
      "No. Observations:                      430   AIC:                            -2898.\n",
      "Df Residuals:                          428   BIC:                            -2890.\n",
      "Df Model:                                1                                         \n",
      "Covariance Type:                 nonrobust                                         \n",
      "========================================================================================\n",
      "                           coef    std err          t      P>|t|      [0.025      0.975]\n",
      "----------------------------------------------------------------------------------------\n",
      "const                    0.0008      0.000      2.001      0.046    1.42e-05       0.002\n",
      "Excess Market Return     0.5895      0.034     17.270      0.000       0.522       0.657\n",
      "==============================================================================\n",
      "Omnibus:                       13.004   Durbin-Watson:                   1.917\n",
      "Prob(Omnibus):                  0.002   Jarque-Bera (JB):               25.768\n",
      "Skew:                          -0.077   Prob(JB):                     2.54e-06\n",
      "Kurtosis:                       4.189   Cond. No.                         85.2\n",
      "==============================================================================\n",
      "\n",
      "Notes:\n",
      "[1] Standard Errors assume that the covariance matrix of the errors is correctly specified.\n"
     ]
    }
   ],
   "source": [
    "print(\"\\nTop ENV Portfolio CAPM Results:\\n\", top_portfolio_env_capm.summary())\n"
   ]
  },
  {
   "cell_type": "code",
   "execution_count": 35,
   "metadata": {
    "colab": {
     "base_uri": "https://localhost:8080/"
    },
    "id": "umYjy5-6nUFt",
    "outputId": "01b905ba-480a-4745-f609-4415b37e51ee"
   },
   "outputs": [
    {
     "name": "stdout",
     "output_type": "stream",
     "text": [
      "\n",
      "Bottom ENV Portfolio CAPM Results:\n",
      "                                OLS Regression Results                              \n",
      "===================================================================================\n",
      "Dep. Variable:     Excess Portfolio Return   R-squared:                       0.105\n",
      "Model:                                 OLS   Adj. R-squared:                  0.102\n",
      "Method:                      Least Squares   F-statistic:                     49.95\n",
      "Date:                     Tue, 30 Jul 2024   Prob (F-statistic):           6.44e-12\n",
      "Time:                             03:09:34   Log-Likelihood:                 817.33\n",
      "No. Observations:                      430   AIC:                            -1631.\n",
      "Df Residuals:                          428   BIC:                            -1623.\n",
      "Df Model:                                1                                         \n",
      "Covariance Type:                 nonrobust                                         \n",
      "========================================================================================\n",
      "                           coef    std err          t      P>|t|      [0.025      0.975]\n",
      "----------------------------------------------------------------------------------------\n",
      "const                    0.0026      0.002      1.489      0.137      -0.001       0.006\n",
      "Excess Market Return     1.0531      0.149      7.068      0.000       0.760       1.346\n",
      "==============================================================================\n",
      "Omnibus:                     1018.376   Durbin-Watson:                   1.030\n",
      "Prob(Omnibus):                  0.000   Jarque-Bera (JB):          2905571.078\n",
      "Skew:                          19.777   Prob(JB):                         0.00\n",
      "Kurtosis:                     403.758   Cond. No.                         85.2\n",
      "==============================================================================\n",
      "\n",
      "Notes:\n",
      "[1] Standard Errors assume that the covariance matrix of the errors is correctly specified.\n"
     ]
    }
   ],
   "source": [
    "print(\"\\nBottom ENV Portfolio CAPM Results:\\n\", bottom_portfolio_env_capm.summary())\n"
   ]
  },
  {
   "cell_type": "code",
   "execution_count": 36,
   "metadata": {
    "colab": {
     "base_uri": "https://localhost:8080/"
    },
    "id": "eNBfyrgMnWgt",
    "outputId": "53ae062f-366f-4d56-f91d-ba223b39282c"
   },
   "outputs": [
    {
     "name": "stdout",
     "output_type": "stream",
     "text": [
      "\n",
      "Top SOC Portfolio CAPM Results:\n",
      "                                OLS Regression Results                              \n",
      "===================================================================================\n",
      "Dep. Variable:     Excess Portfolio Return   R-squared:                       0.742\n",
      "Model:                                 OLS   Adj. R-squared:                  0.741\n",
      "Method:                      Least Squares   F-statistic:                     1230.\n",
      "Date:                     Tue, 30 Jul 2024   Prob (F-statistic):          5.80e-128\n",
      "Time:                             03:09:44   Log-Likelihood:                 1556.9\n",
      "No. Observations:                      430   AIC:                            -3110.\n",
      "Df Residuals:                          428   BIC:                            -3102.\n",
      "Df Model:                                1                                         \n",
      "Covariance Type:                 nonrobust                                         \n",
      "========================================================================================\n",
      "                           coef    std err          t      P>|t|      [0.025      0.975]\n",
      "----------------------------------------------------------------------------------------\n",
      "const                    0.0008      0.000      2.412      0.016       0.000       0.001\n",
      "Excess Market Return     0.9359      0.027     35.078      0.000       0.883       0.988\n",
      "==============================================================================\n",
      "Omnibus:                       24.474   Durbin-Watson:                   2.021\n",
      "Prob(Omnibus):                  0.000   Jarque-Bera (JB):               74.411\n",
      "Skew:                          -0.100   Prob(JB):                     6.95e-17\n",
      "Kurtosis:                       5.028   Cond. No.                         85.2\n",
      "==============================================================================\n",
      "\n",
      "Notes:\n",
      "[1] Standard Errors assume that the covariance matrix of the errors is correctly specified.\n"
     ]
    }
   ],
   "source": [
    "print(\"\\nTop SOC Portfolio CAPM Results:\\n\", top_portfolio_soc_capm.summary())\n"
   ]
  },
  {
   "cell_type": "code",
   "execution_count": 37,
   "metadata": {
    "colab": {
     "base_uri": "https://localhost:8080/"
    },
    "id": "WMlv692tnYr1",
    "outputId": "b883c6b4-353a-4c33-aa98-81a65b7e8766"
   },
   "outputs": [
    {
     "name": "stdout",
     "output_type": "stream",
     "text": [
      "\n",
      "Bottom SOC Portfolio CAPM Results:\n",
      "                                OLS Regression Results                              \n",
      "===================================================================================\n",
      "Dep. Variable:     Excess Portfolio Return   R-squared:                       0.733\n",
      "Model:                                 OLS   Adj. R-squared:                  0.733\n",
      "Method:                      Least Squares   F-statistic:                     1176.\n",
      "Date:                     Tue, 30 Jul 2024   Prob (F-statistic):          7.56e-125\n",
      "Time:                             03:09:57   Log-Likelihood:                 1607.8\n",
      "No. Observations:                      430   AIC:                            -3212.\n",
      "Df Residuals:                          428   BIC:                            -3204.\n",
      "Df Model:                                1                                         \n",
      "Covariance Type:                 nonrobust                                         \n",
      "========================================================================================\n",
      "                           coef    std err          t      P>|t|      [0.025      0.975]\n",
      "----------------------------------------------------------------------------------------\n",
      "const                    0.0008      0.000      2.842      0.005       0.000       0.001\n",
      "Excess Market Return     0.8127      0.024     34.290      0.000       0.766       0.859\n",
      "==============================================================================\n",
      "Omnibus:                       14.361   Durbin-Watson:                   2.008\n",
      "Prob(Omnibus):                  0.001   Jarque-Bera (JB):               29.000\n",
      "Skew:                          -0.113   Prob(JB):                     5.04e-07\n",
      "Kurtosis:                       4.252   Cond. No.                         85.2\n",
      "==============================================================================\n",
      "\n",
      "Notes:\n",
      "[1] Standard Errors assume that the covariance matrix of the errors is correctly specified.\n"
     ]
    }
   ],
   "source": [
    "print(\"\\nBottom SOC Portfolio CAPM Results:\\n\", bottom_portfolio_soc_capm.summary())\n"
   ]
  },
  {
   "cell_type": "code",
   "execution_count": 38,
   "metadata": {
    "colab": {
     "base_uri": "https://localhost:8080/"
    },
    "id": "gRC5oMy-ncFF",
    "outputId": "50a5cc18-535d-4d5c-a05b-6d35edc26de2"
   },
   "outputs": [
    {
     "name": "stdout",
     "output_type": "stream",
     "text": [
      "\n",
      "Top GOV Portfolio CAPM Results:\n",
      "                                OLS Regression Results                              \n",
      "===================================================================================\n",
      "Dep. Variable:     Excess Portfolio Return   R-squared:                       0.726\n",
      "Model:                                 OLS   Adj. R-squared:                  0.725\n",
      "Method:                      Least Squares   F-statistic:                     1132.\n",
      "Date:                     Tue, 30 Jul 2024   Prob (F-statistic):          2.75e-122\n",
      "Time:                             03:10:10   Log-Likelihood:                 1531.6\n",
      "No. Observations:                      430   AIC:                            -3059.\n",
      "Df Residuals:                          428   BIC:                            -3051.\n",
      "Df Model:                                1                                         \n",
      "Covariance Type:                 nonrobust                                         \n",
      "========================================================================================\n",
      "                           coef    std err          t      P>|t|      [0.025      0.975]\n",
      "----------------------------------------------------------------------------------------\n",
      "const                    0.0005      0.000      1.383      0.167      -0.000       0.001\n",
      "Excess Market Return     0.9523      0.028     33.649      0.000       0.897       1.008\n",
      "==============================================================================\n",
      "Omnibus:                       54.606   Durbin-Watson:                   2.083\n",
      "Prob(Omnibus):                  0.000   Jarque-Bera (JB):              172.817\n",
      "Skew:                           0.558   Prob(JB):                     2.97e-38\n",
      "Kurtosis:                       5.898   Cond. No.                         85.2\n",
      "==============================================================================\n",
      "\n",
      "Notes:\n",
      "[1] Standard Errors assume that the covariance matrix of the errors is correctly specified.\n"
     ]
    }
   ],
   "source": [
    "print(\"\\nTop GOV Portfolio CAPM Results:\\n\", top_portfolio_gov_capm.summary())\n"
   ]
  },
  {
   "cell_type": "code",
   "execution_count": 39,
   "metadata": {
    "colab": {
     "base_uri": "https://localhost:8080/"
    },
    "id": "tWJLI1_jnd19",
    "outputId": "549e301b-e213-45b4-acc7-4286b85a9841"
   },
   "outputs": [
    {
     "name": "stdout",
     "output_type": "stream",
     "text": [
      "\n",
      "Bottom GOV Portfolio CAPM Results:\n",
      "                                OLS Regression Results                              \n",
      "===================================================================================\n",
      "Dep. Variable:     Excess Portfolio Return   R-squared:                       0.648\n",
      "Model:                                 OLS   Adj. R-squared:                  0.647\n",
      "Method:                      Least Squares   F-statistic:                     787.1\n",
      "Date:                     Tue, 30 Jul 2024   Prob (F-statistic):           5.00e-99\n",
      "Time:                             03:10:14   Log-Likelihood:                 1522.1\n",
      "No. Observations:                      430   AIC:                            -3040.\n",
      "Df Residuals:                          428   BIC:                            -3032.\n",
      "Df Model:                                1                                         \n",
      "Covariance Type:                 nonrobust                                         \n",
      "========================================================================================\n",
      "                           coef    std err          t      P>|t|      [0.025      0.975]\n",
      "----------------------------------------------------------------------------------------\n",
      "const                    0.0010      0.000      2.894      0.004       0.000       0.002\n",
      "Excess Market Return     0.8117      0.029     28.056      0.000       0.755       0.869\n",
      "==============================================================================\n",
      "Omnibus:                       26.648   Durbin-Watson:                   1.958\n",
      "Prob(Omnibus):                  0.000   Jarque-Bera (JB):               91.306\n",
      "Skew:                           0.008   Prob(JB):                     1.49e-20\n",
      "Kurtosis:                       5.257   Cond. No.                         85.2\n",
      "==============================================================================\n",
      "\n",
      "Notes:\n",
      "[1] Standard Errors assume that the covariance matrix of the errors is correctly specified.\n"
     ]
    }
   ],
   "source": [
    "print(\"\\nBottom GOV Portfolio CAPM Results:\\n\", bottom_portfolio_gov_capm.summary())"
   ]
  },
  {
   "cell_type": "markdown",
   "metadata": {
    "id": "Jo1_1MboC57D"
   },
   "source": [
    "### **CAPM Analysis**\n",
    "\n",
    "#### **Top ESG Portfolio**:\n",
    "- **Alpha**: 0.0008 (p-value: 0.025)\n",
    "- **Market Risk Premium**: 0.6589 (p-value: 0.000)\n",
    "- **R-squared**: 0.502\n",
    "- **Observation**: The top ESG portfolio has a beta less than 1, indicating lower sensitivity to market movements. The positive alpha suggests a slight outperformance over the expected return based on the market.\n",
    "\n",
    "#### **Bottom ESG Portfolio**:\n",
    "- **Alpha**: 0.0010 (p-value: 0.000)\n",
    "- **Market Risk Premium**: 0.8912 (p-value: 0.000)\n",
    "- **R-squared**: 0.784\n",
    "- **Observation**: The bottom ESG portfolio has a beta greater than 1, indicating higher sensitivity to market movements. The positive alpha suggests outperformance, but higher volatility compared to the top portfolio.\n",
    "\n",
    "#### **Top ENV Portfolio**:\n",
    "- **Alpha**: 0.0008 (p-value: 0.046)\n",
    "- **Market Risk Premium**: 0.5895 (p-value: 0.000)\n",
    "- **R-squared**: 0.411\n",
    "- **Observation**: The top ENV portfolio has a beta less than 1, indicating lower sensitivity to market movements. The positive alpha suggests a slight outperformance over the expected return based on the market.\n",
    "\n",
    "#### **Bottom ENV Portfolio**:\n",
    "- **Alpha**: 0.0026 (p-value: 0.137)\n",
    "- **Market Risk Premium**: 1.0531 (p-value: 0.000)\n",
    "- **R-squared**: 0.105\n",
    "- **Observation**: The bottom ENV portfolio has a beta greater than 1, indicating higher sensitivity to market movements. The positive alpha is not statistically significant.\n",
    "\n",
    "#### **Top SOC Portfolio**:\n",
    "- **Alpha**: 0.0008 (p-value: 0.016)\n",
    "- **Market Risk Premium**: 0.9359 (p-value: 0.000)\n",
    "- **R-squared**: 0.742\n",
    "- **Observation**: The top SOC portfolio has a beta less than 1, indicating lower sensitivity to market movements. The positive alpha suggests a slight outperformance over the expected return based on the market.\n",
    "\n",
    "#### **Bottom SOC Portfolio**:\n",
    "- **Alpha**: 0.0008 (p-value: 0.005)\n",
    "- **Market Risk Premium**: 0.8127 (p-value: 0.000)\n",
    "- **R-squared**: 0.733\n",
    "- **Observation**: The bottom SOC portfolio has a beta less than 1, indicating lower sensitivity to market movements. The positive alpha suggests a slight outperformance over the expected return based on the market.\n",
    "\n",
    "#### **Top GOV Portfolio**:\n",
    "- **Alpha**: 0.0005 (p-value: 0.167)\n",
    "- **Market Risk Premium**: 0.9523 (p-value: 0.000)\n",
    "- **R-squared**: 0.726\n",
    "- **Observation**: The top GOV portfolio has a beta less than 1, indicating lower sensitivity to market movements. The positive alpha is not statistically significant.\n",
    "\n",
    "#### **Bottom GOV Portfolio**:\n",
    "- **Alpha**: 0.0010 (p-value: 0.004)\n",
    "- **Market Risk Premium**: 0.8117 (p-value: 0.000)\n",
    "- **R-squared**: 0.648\n",
    "- **Observation**: The bottom GOV portfolio has a beta less than 1, indicating lower sensitivity to market movements. The positive alpha suggests a slight outperformance over the expected return based on the market."
   ]
  },
  {
   "cell_type": "markdown",
   "metadata": {
    "id": "vArdUPd82Vpk"
   },
   "source": [
    "### **e): Fama-French Model**"
   ]
  },
  {
   "cell_type": "code",
   "execution_count": 40,
   "metadata": {
    "id": "Xw9_ZGs9tf6k"
   },
   "outputs": [],
   "source": [
    "# Load cleaned Fama-French factors data\n",
    "ff_factors = pd.read_csv('cleaned_FF_factors.csv', index_col=0, parse_dates=True)\n",
    "\n",
    "# Prepare data for Fama-French regression\n",
    "def prepare_ff_regression_data(portfolio_returns, market_data, risk_free_rate, ff_factors):\n",
    "    regression_data = pd.DataFrame({\n",
    "        'Portfolio Return': portfolio_returns,\n",
    "        'Market Return': market_data['Market Return'],\n",
    "        'Risk-Free Rate': risk_free_rate['Risk-Free Rate'],\n",
    "        'SMB': ff_factors['SMB'],\n",
    "        'HML': ff_factors['HML']\n",
    "    }).dropna()\n",
    "\n",
    "    regression_data['Excess Portfolio Return'] = regression_data['Portfolio Return'] - regression_data['Risk-Free Rate']\n",
    "    regression_data['Excess Market Return'] = regression_data['Market Return'] - regression_data['Risk-Free Rate']\n",
    "\n",
    "    return regression_data\n",
    "\n",
    "top_portfolio_esg_ff_regression_data = prepare_ff_regression_data(top_portfolio_esg_returns, market_data, risk_free_rate, ff_factors)\n",
    "bottom_portfolio_esg_ff_regression_data = prepare_ff_regression_data(bottom_portfolio_esg_returns, market_data, risk_free_rate, ff_factors)\n",
    "\n",
    "# Prepare Fama-French regression data for other portfolios\n",
    "top_portfolio_env_ff_regression_data = prepare_ff_regression_data(top_portfolio_env_returns, market_data, risk_free_rate, ff_factors)\n",
    "bottom_portfolio_env_ff_regression_data = prepare_ff_regression_data(bottom_portfolio_env_returns, market_data, risk_free_rate, ff_factors)\n",
    "top_portfolio_soc_ff_regression_data = prepare_ff_regression_data(top_portfolio_soc_returns, market_data, risk_free_rate, ff_factors)\n",
    "bottom_portfolio_soc_ff_regression_data = prepare_ff_regression_data(bottom_portfolio_soc_returns, market_data, risk_free_rate, ff_factors)\n",
    "top_portfolio_gov_ff_regression_data = prepare_ff_regression_data(top_portfolio_gov_returns, market_data, risk_free_rate, ff_factors)\n",
    "bottom_portfolio_gov_ff_regression_data = prepare_ff_regression_data(bottom_portfolio_gov_returns, market_data, risk_free_rate, ff_factors)\n",
    "\n",
    "# Fama-French Model\n",
    "def run_ff_regression(regression_data):\n",
    "    X = regression_data[['Excess Market Return', 'SMB', 'HML']]\n",
    "    X = sm.add_constant(X)\n",
    "    y = regression_data['Excess Portfolio Return']\n",
    "    ff_model = sm.OLS(y, X).fit()\n",
    "    return ff_model\n",
    "\n",
    "# Run Fama-French for all portfolios\n",
    "top_portfolio_esg_ff = run_ff_regression(top_portfolio_esg_ff_regression_data)\n",
    "bottom_portfolio_esg_ff = run_ff_regression(bottom_portfolio_esg_ff_regression_data)\n",
    "top_portfolio_env_ff = run_ff_regression(top_portfolio_env_ff_regression_data)\n",
    "bottom_portfolio_env_ff = run_ff_regression(bottom_portfolio_env_ff_regression_data)\n",
    "top_portfolio_soc_ff = run_ff_regression(top_portfolio_soc_ff_regression_data)\n",
    "bottom_portfolio_soc_ff = run_ff_regression(bottom_portfolio_soc_ff_regression_data)\n",
    "top_portfolio_gov_ff = run_ff_regression(top_portfolio_gov_ff_regression_data)\n",
    "bottom_portfolio_gov_ff = run_ff_regression(bottom_portfolio_gov_ff_regression_data)\n"
   ]
  },
  {
   "cell_type": "markdown",
   "metadata": {
    "id": "rT4YnEejo5kf"
   },
   "source": [
    "### **Printing Fama-French results**"
   ]
  },
  {
   "cell_type": "code",
   "execution_count": 41,
   "metadata": {
    "colab": {
     "base_uri": "https://localhost:8080/"
    },
    "id": "nGheHncQopxn",
    "outputId": "9190e692-2f39-4dd7-d724-81c7ea6f48b0"
   },
   "outputs": [
    {
     "name": "stdout",
     "output_type": "stream",
     "text": [
      "\n",
      "Top ESG Portfolio Fama-French Results:\n",
      "                                OLS Regression Results                              \n",
      "===================================================================================\n",
      "Dep. Variable:     Excess Portfolio Return   R-squared:                       0.621\n",
      "Model:                                 OLS   Adj. R-squared:                  0.618\n",
      "Method:                      Least Squares   F-statistic:                     232.4\n",
      "Date:                     Tue, 30 Jul 2024   Prob (F-statistic):           2.64e-89\n",
      "Time:                             03:16:53   Log-Likelihood:                 1541.2\n",
      "No. Observations:                      430   AIC:                            -3074.\n",
      "Df Residuals:                          426   BIC:                            -3058.\n",
      "Df Model:                                3                                         \n",
      "Covariance Type:                 nonrobust                                         \n",
      "========================================================================================\n",
      "                           coef    std err          t      P>|t|      [0.025      0.975]\n",
      "----------------------------------------------------------------------------------------\n",
      "const                    0.0003      0.000      0.920      0.358      -0.000       0.001\n",
      "Excess Market Return     0.9068      0.035     25.833      0.000       0.838       0.976\n",
      "SMB                      0.0038      0.001      6.978      0.000       0.003       0.005\n",
      "HML                      0.0068      0.001     11.485      0.000       0.006       0.008\n",
      "==============================================================================\n",
      "Omnibus:                       34.425   Durbin-Watson:                   2.045\n",
      "Prob(Omnibus):                  0.000   Jarque-Bera (JB):              138.906\n",
      "Skew:                          -0.149   Prob(JB):                     6.87e-31\n",
      "Kurtosis:                       5.768   Cond. No.                         108.\n",
      "==============================================================================\n",
      "\n",
      "Notes:\n",
      "[1] Standard Errors assume that the covariance matrix of the errors is correctly specified.\n"
     ]
    }
   ],
   "source": [
    "print(\"\\nTop ESG Portfolio Fama-French Results:\\n\", top_portfolio_esg_ff.summary())"
   ]
  },
  {
   "cell_type": "code",
   "execution_count": 42,
   "metadata": {
    "colab": {
     "base_uri": "https://localhost:8080/"
    },
    "id": "r4D3mIXDorsu",
    "outputId": "720b2c6b-2265-449a-bbd3-4548f62794af"
   },
   "outputs": [
    {
     "name": "stdout",
     "output_type": "stream",
     "text": [
      "\n",
      "Bottom ESG Portfolio Fama-French Results:\n",
      "                                OLS Regression Results                              \n",
      "===================================================================================\n",
      "Dep. Variable:     Excess Portfolio Return   R-squared:                       0.815\n",
      "Model:                                 OLS   Adj. R-squared:                  0.814\n",
      "Method:                      Least Squares   F-statistic:                     625.3\n",
      "Date:                     Tue, 30 Jul 2024   Prob (F-statistic):          1.30e-155\n",
      "Time:                             03:17:01   Log-Likelihood:                 1661.3\n",
      "No. Observations:                      430   AIC:                            -3315.\n",
      "Df Residuals:                          426   BIC:                            -3298.\n",
      "Df Model:                                3                                         \n",
      "Covariance Type:                 nonrobust                                         \n",
      "========================================================================================\n",
      "                           coef    std err          t      P>|t|      [0.025      0.975]\n",
      "----------------------------------------------------------------------------------------\n",
      "const                    0.0007      0.000      2.992      0.003       0.000       0.001\n",
      "Excess Market Return     1.0070      0.027     37.937      0.000       0.955       1.059\n",
      "SMB                      0.0033      0.000      8.055      0.000       0.003       0.004\n",
      "HML                      0.0028      0.000      6.346      0.000       0.002       0.004\n",
      "==============================================================================\n",
      "Omnibus:                       17.479   Durbin-Watson:                   2.116\n",
      "Prob(Omnibus):                  0.000   Jarque-Bera (JB):               42.169\n",
      "Skew:                           0.066   Prob(JB):                     6.97e-10\n",
      "Kurtosis:                       4.529   Cond. No.                         108.\n",
      "==============================================================================\n",
      "\n",
      "Notes:\n",
      "[1] Standard Errors assume that the covariance matrix of the errors is correctly specified.\n"
     ]
    }
   ],
   "source": [
    "print(\"\\nBottom ESG Portfolio Fama-French Results:\\n\", bottom_portfolio_esg_ff.summary())"
   ]
  },
  {
   "cell_type": "code",
   "execution_count": 43,
   "metadata": {
    "colab": {
     "base_uri": "https://localhost:8080/"
    },
    "id": "kC-FcA34otyt",
    "outputId": "da5334ca-12b3-479d-e92e-c724f5edd9fe"
   },
   "outputs": [
    {
     "name": "stdout",
     "output_type": "stream",
     "text": [
      "\n",
      "Top ENV Portfolio Fama-French Results:\n",
      "                                OLS Regression Results                              \n",
      "===================================================================================\n",
      "Dep. Variable:     Excess Portfolio Return   R-squared:                       0.551\n",
      "Model:                                 OLS   Adj. R-squared:                  0.548\n",
      "Method:                      Least Squares   F-statistic:                     174.1\n",
      "Date:                     Tue, 30 Jul 2024   Prob (F-statistic):           1.17e-73\n",
      "Time:                             03:17:22   Log-Likelihood:                 1509.4\n",
      "No. Observations:                      430   AIC:                            -3011.\n",
      "Df Residuals:                          426   BIC:                            -2994.\n",
      "Df Model:                                3                                         \n",
      "Covariance Type:                 nonrobust                                         \n",
      "========================================================================================\n",
      "                           coef    std err          t      P>|t|      [0.025      0.975]\n",
      "----------------------------------------------------------------------------------------\n",
      "const                    0.0003      0.000      0.781      0.435      -0.000       0.001\n",
      "Excess Market Return     0.8475      0.038     22.422      0.000       0.773       0.922\n",
      "SMB                      0.0029      0.001      4.936      0.000       0.002       0.004\n",
      "HML                      0.0073      0.001     11.462      0.000       0.006       0.009\n",
      "==============================================================================\n",
      "Omnibus:                       37.355   Durbin-Watson:                   2.050\n",
      "Prob(Omnibus):                  0.000   Jarque-Bera (JB):              134.203\n",
      "Skew:                          -0.280   Prob(JB):                     7.21e-30\n",
      "Kurtosis:                       5.679   Cond. No.                         108.\n",
      "==============================================================================\n",
      "\n",
      "Notes:\n",
      "[1] Standard Errors assume that the covariance matrix of the errors is correctly specified.\n"
     ]
    }
   ],
   "source": [
    "print(\"\\nTop ENV Portfolio Fama-French Results:\\n\", top_portfolio_env_ff.summary())"
   ]
  },
  {
   "cell_type": "code",
   "execution_count": 44,
   "metadata": {
    "colab": {
     "base_uri": "https://localhost:8080/"
    },
    "id": "kXtI1eM9ovsu",
    "outputId": "18098a46-76f8-4b38-fbf6-56f3d14c30c1"
   },
   "outputs": [
    {
     "name": "stdout",
     "output_type": "stream",
     "text": [
      "\n",
      "Bottom ENV Portfolio Fama-French Results:\n",
      "                                OLS Regression Results                              \n",
      "===================================================================================\n",
      "Dep. Variable:     Excess Portfolio Return   R-squared:                       0.105\n",
      "Model:                                 OLS   Adj. R-squared:                  0.099\n",
      "Method:                      Least Squares   F-statistic:                     16.69\n",
      "Date:                     Tue, 30 Jul 2024   Prob (F-statistic):           2.85e-10\n",
      "Time:                             03:17:24   Log-Likelihood:                 817.49\n",
      "No. Observations:                      430   AIC:                            -1627.\n",
      "Df Residuals:                          426   BIC:                            -1611.\n",
      "Df Model:                                3                                         \n",
      "Covariance Type:                 nonrobust                                         \n",
      "========================================================================================\n",
      "                           coef    std err          t      P>|t|      [0.025      0.975]\n",
      "----------------------------------------------------------------------------------------\n",
      "const                    0.0025      0.002      1.393      0.164      -0.001       0.006\n",
      "Excess Market Return     1.1050      0.189      5.849      0.000       0.734       1.476\n",
      "SMB                      0.0016      0.003      0.561      0.575      -0.004       0.007\n",
      "HML                      0.0012      0.003      0.389      0.698      -0.005       0.008\n",
      "==============================================================================\n",
      "Omnibus:                     1019.339   Durbin-Watson:                   1.032\n",
      "Prob(Omnibus):                  0.000   Jarque-Bera (JB):          2922570.428\n",
      "Skew:                          19.821   Prob(JB):                         0.00\n",
      "Kurtosis:                     404.931   Cond. No.                         108.\n",
      "==============================================================================\n",
      "\n",
      "Notes:\n",
      "[1] Standard Errors assume that the covariance matrix of the errors is correctly specified.\n"
     ]
    }
   ],
   "source": [
    "print(\"\\nBottom ENV Portfolio Fama-French Results:\\n\", bottom_portfolio_env_ff.summary())"
   ]
  },
  {
   "cell_type": "code",
   "execution_count": 45,
   "metadata": {
    "colab": {
     "base_uri": "https://localhost:8080/"
    },
    "id": "k6dpxTs8oxm2",
    "outputId": "fb55bb81-79c6-49c4-f7d6-fe9060fed00a"
   },
   "outputs": [
    {
     "name": "stdout",
     "output_type": "stream",
     "text": [
      "\n",
      "Top SOC Portfolio Fama-French Results:\n",
      "                                OLS Regression Results                              \n",
      "===================================================================================\n",
      "Dep. Variable:     Excess Portfolio Return   R-squared:                       0.766\n",
      "Model:                                 OLS   Adj. R-squared:                  0.764\n",
      "Method:                      Least Squares   F-statistic:                     464.9\n",
      "Date:                     Tue, 30 Jul 2024   Prob (F-statistic):          6.31e-134\n",
      "Time:                             03:17:27   Log-Likelihood:                 1578.0\n",
      "No. Observations:                      430   AIC:                            -3148.\n",
      "Df Residuals:                          426   BIC:                            -3132.\n",
      "Df Model:                                3                                         \n",
      "Covariance Type:                 nonrobust                                         \n",
      "========================================================================================\n",
      "                           coef    std err          t      P>|t|      [0.025      0.975]\n",
      "----------------------------------------------------------------------------------------\n",
      "const                    0.0005      0.000      1.525      0.128      -0.000       0.001\n",
      "Excess Market Return     1.0630      0.032     32.991      0.000       1.000       1.126\n",
      "SMB                      0.0027      0.000      5.334      0.000       0.002       0.004\n",
      "HML                      0.0033      0.001      6.127      0.000       0.002       0.004\n",
      "==============================================================================\n",
      "Omnibus:                       28.101   Durbin-Watson:                   2.052\n",
      "Prob(Omnibus):                  0.000   Jarque-Bera (JB):              101.071\n",
      "Skew:                           0.003   Prob(JB):                     1.13e-22\n",
      "Kurtosis:                       5.375   Cond. No.                         108.\n",
      "==============================================================================\n",
      "\n",
      "Notes:\n",
      "[1] Standard Errors assume that the covariance matrix of the errors is correctly specified.\n"
     ]
    }
   ],
   "source": [
    "print(\"\\nTop SOC Portfolio Fama-French Results:\\n\", top_portfolio_soc_ff.summary())"
   ]
  },
  {
   "cell_type": "code",
   "execution_count": 46,
   "metadata": {
    "colab": {
     "base_uri": "https://localhost:8080/"
    },
    "id": "oYATPmBMozGF",
    "outputId": "f7027fcf-273c-403d-8e04-e84f1a4b7739"
   },
   "outputs": [
    {
     "name": "stdout",
     "output_type": "stream",
     "text": [
      "\n",
      "Bottom SOC Portfolio Fama-French Results:\n",
      "                                OLS Regression Results                              \n",
      "===================================================================================\n",
      "Dep. Variable:     Excess Portfolio Return   R-squared:                       0.786\n",
      "Model:                                 OLS   Adj. R-squared:                  0.785\n",
      "Method:                      Least Squares   F-statistic:                     522.9\n",
      "Date:                     Tue, 30 Jul 2024   Prob (F-statistic):          2.28e-142\n",
      "Time:                             03:17:30   Log-Likelihood:                 1655.7\n",
      "No. Observations:                      430   AIC:                            -3303.\n",
      "Df Residuals:                          426   BIC:                            -3287.\n",
      "Df Model:                                3                                         \n",
      "Covariance Type:                 nonrobust                                         \n",
      "========================================================================================\n",
      "                           coef    std err          t      P>|t|      [0.025      0.975]\n",
      "----------------------------------------------------------------------------------------\n",
      "const                    0.0004      0.000      1.678      0.094   -7.25e-05       0.001\n",
      "Excess Market Return     0.9587      0.027     35.648      0.000       0.906       1.012\n",
      "SMB                      0.0041      0.000      9.748      0.000       0.003       0.005\n",
      "HML                      0.0036      0.000      7.944      0.000       0.003       0.005\n",
      "==============================================================================\n",
      "Omnibus:                        5.685   Durbin-Watson:                   2.008\n",
      "Prob(Omnibus):                  0.058   Jarque-Bera (JB):                7.887\n",
      "Skew:                           0.029   Prob(JB):                       0.0194\n",
      "Kurtosis:                       3.661   Cond. No.                         108.\n",
      "==============================================================================\n",
      "\n",
      "Notes:\n",
      "[1] Standard Errors assume that the covariance matrix of the errors is correctly specified.\n"
     ]
    }
   ],
   "source": [
    "print(\"\\nBottom SOC Portfolio Fama-French Results:\\n\", bottom_portfolio_soc_ff.summary())"
   ]
  },
  {
   "cell_type": "code",
   "execution_count": 47,
   "metadata": {
    "colab": {
     "base_uri": "https://localhost:8080/"
    },
    "id": "eBuHMjXUo0xW",
    "outputId": "36239e86-ad70-48d9-8d1d-1ccae0186934"
   },
   "outputs": [
    {
     "name": "stdout",
     "output_type": "stream",
     "text": [
      "\n",
      "Top GOV Portfolio Fama-French Results:\n",
      "                                OLS Regression Results                              \n",
      "===================================================================================\n",
      "Dep. Variable:     Excess Portfolio Return   R-squared:                       0.787\n",
      "Model:                                 OLS   Adj. R-squared:                  0.785\n",
      "Method:                      Least Squares   F-statistic:                     524.2\n",
      "Date:                     Tue, 30 Jul 2024   Prob (F-statistic):          1.49e-142\n",
      "Time:                             03:17:33   Log-Likelihood:                 1585.8\n",
      "No. Observations:                      430   AIC:                            -3164.\n",
      "Df Residuals:                          426   BIC:                            -3147.\n",
      "Df Model:                                3                                         \n",
      "Covariance Type:                 nonrobust                                         \n",
      "========================================================================================\n",
      "                           coef    std err          t      P>|t|      [0.025      0.975]\n",
      "----------------------------------------------------------------------------------------\n",
      "const                    0.0003      0.000      0.957      0.339      -0.000       0.001\n",
      "Excess Market Return     1.0775      0.032     34.056      0.000       1.015       1.140\n",
      "SMB                     -0.0013      0.000     -2.686      0.008      -0.002      -0.000\n",
      "HML                      0.0041      0.001      7.757      0.000       0.003       0.005\n",
      "==============================================================================\n",
      "Omnibus:                       27.348   Durbin-Watson:                   2.184\n",
      "Prob(Omnibus):                  0.000   Jarque-Bera (JB):               79.267\n",
      "Skew:                           0.209   Prob(JB):                     6.13e-18\n",
      "Kurtosis:                       5.061   Cond. No.                         108.\n",
      "==============================================================================\n",
      "\n",
      "Notes:\n",
      "[1] Standard Errors assume that the covariance matrix of the errors is correctly specified.\n"
     ]
    }
   ],
   "source": [
    "print(\"\\nTop GOV Portfolio Fama-French Results:\\n\", top_portfolio_gov_ff.summary())"
   ]
  },
  {
   "cell_type": "code",
   "execution_count": 48,
   "metadata": {
    "colab": {
     "base_uri": "https://localhost:8080/"
    },
    "id": "O4EOu3DVo2k9",
    "outputId": "c4c45e4f-5c18-4640-a757-60d96b7b841b"
   },
   "outputs": [
    {
     "name": "stdout",
     "output_type": "stream",
     "text": [
      "\n",
      "Bottom GOV Portfolio Fama-French Results:\n",
      "                                OLS Regression Results                              \n",
      "===================================================================================\n",
      "Dep. Variable:     Excess Portfolio Return   R-squared:                       0.746\n",
      "Model:                                 OLS   Adj. R-squared:                  0.744\n",
      "Method:                      Least Squares   F-statistic:                     416.9\n",
      "Date:                     Tue, 30 Jul 2024   Prob (F-statistic):          2.58e-126\n",
      "Time:                             03:17:35   Log-Likelihood:                 1592.3\n",
      "No. Observations:                      430   AIC:                            -3177.\n",
      "Df Residuals:                          426   BIC:                            -3160.\n",
      "Df Model:                                3                                         \n",
      "Covariance Type:                 nonrobust                                         \n",
      "========================================================================================\n",
      "                           coef    std err          t      P>|t|      [0.025      0.975]\n",
      "----------------------------------------------------------------------------------------\n",
      "const                    0.0005      0.000      1.678      0.094   -8.41e-05       0.001\n",
      "Excess Market Return     1.0509      0.031     33.720      0.000       0.990       1.112\n",
      "SMB                      0.0029      0.000      5.967      0.000       0.002       0.004\n",
      "HML                      0.0067      0.001     12.802      0.000       0.006       0.008\n",
      "==============================================================================\n",
      "Omnibus:                       40.129   Durbin-Watson:                   2.072\n",
      "Prob(Omnibus):                  0.000   Jarque-Bera (JB):              153.142\n",
      "Skew:                           0.296   Prob(JB):                     5.57e-34\n",
      "Kurtosis:                       5.863   Cond. No.                         108.\n",
      "==============================================================================\n",
      "\n",
      "Notes:\n",
      "[1] Standard Errors assume that the covariance matrix of the errors is correctly specified.\n"
     ]
    }
   ],
   "source": [
    "print(\"\\nBottom GOV Portfolio Fama-French Results:\\n\", bottom_portfolio_gov_ff.summary())"
   ]
  },
  {
   "cell_type": "markdown",
   "metadata": {
    "id": "qC9HzT1yBAE8"
   },
   "source": [
    "### **Fama-French Model Analysis**\n",
    "\n",
    "#### **Top ESG Portfolio**:\n",
    "- **Alpha**: 0.0003 (p-value: 0.358)\n",
    "- **Excess Market Return**: 0.9068 (p-value: 0.000)\n",
    "- **SMB (Small Minus Big)**: 0.0038 (p-value: 0.000)\n",
    "- **HML (High Minus Low)**: 0.0068 (p-value: 0.000)\n",
    "- **R-squared**: 0.621\n",
    "- **Observation**: The top ESG portfolio shows positive exposure to market risk, small-cap stocks, and value stocks. The high R-squared value indicates a good fit for the model.\n",
    "\n",
    "#### **Bottom ESG Portfolio**:\n",
    "- **Alpha**: 0.0007 (p-value: 0.003)\n",
    "- **Excess Market Return**: 1.0070 (p-value: 0.000)\n",
    "- **SMB (Small Minus Big)**: 0.0033 (p-value: 0.000)\n",
    "- **HML (High Minus Low)**: 0.0028 (p-value: 0.000)\n",
    "- **R-squared**: 0.815\n",
    "- **Observation**: The bottom ESG portfolio has higher exposure to market risk, small-cap stocks, and value stocks compared to the top portfolio. The higher R-squared value indicates an even better fit for the model.\n",
    "\n",
    "#### **Top ENV Portfolio**:\n",
    "- **Alpha**: 0.0003 (p-value: 0.435)\n",
    "- **Excess Market Return**: 0.8475 (p-value: 0.000)\n",
    "- **SMB (Small Minus Big)**: 0.0029 (p-value: 0.000)\n",
    "- **HML (High Minus Low)**: 0.0073 (p-value: 0.000)\n",
    "- **R-squared**: 0.551\n",
    "- **Observation**: The top ENV portfolio shows positive exposure to market risk, small-cap stocks, and value stocks. The R-squared value indicates a good fit for the model.\n",
    "\n",
    "#### **Bottom ENV Portfolio**:\n",
    "- **Alpha**: 0.0025 (p-value: 0.164)\n",
    "- **Excess Market Return**: 1.1050 (p-value: 0.000)\n",
    "- **SMB (Small Minus Big)**: 0.0016 (p-value: 0.575)\n",
    "- **HML (High Minus Low)**: 0.0012 (p-value: 0.698)\n",
    "- **R-squared**: 0.105\n",
    "- **Observation**: The bottom ENV portfolio has a beta greater than 1, indicating higher sensitivity to market movements. The positive alpha is not statistically significant.\n",
    "\n",
    "#### **Top SOC Portfolio**:\n",
    "- **Alpha**: 0.0005 (p-value: 0.128)\n",
    "- **Excess Market Return**: 1.0630 (p-value: 0.000)\n",
    "- **SMB (Small Minus Big)**: 0.0027 (p-value: 0.000)\n",
    "- **HML (High Minus Low)**: 0.0033 (p-value: 0.000)\n",
    "- **R-squared**: 0.766\n",
    "- **Observation**: The top SOC portfolio shows positive exposure to market risk, small-cap stocks, and value stocks. The high R-squared value indicates a good fit for the model.\n",
    "\n",
    "#### **Bottom SOC Portfolio**:\n",
    "- **Alpha**: 0.0004 (p-value: 0.094)\n",
    "- **Excess Market Return**: 0.9587 (p-value: 0.000)\n",
    "- **SMB (Small Minus Big)**: 0.0041 (p-value: 0.000)\n",
    "- **HML (High Minus Low)**: 0.0036 (p-value: 0.000)\n",
    "- **R-squared**: 0.786\n",
    "- **Observation**: The bottom SOC portfolio shows positive exposure to market risk, small-cap stocks, and value stocks. The high R-squared value indicates a good fit for the model.\n",
    "\n",
    "#### **Top GOV Portfolio**:\n",
    "- **Alpha**: 0.0003 (p-value: 0.339)\n",
    "- **Excess Market Return**: 1.0775 (p-value: 0.000)\n",
    "- **SMB (Small Minus Big)**: -0.0013 (p-value: 0.008)\n",
    "- **HML (High Minus Low)**: 0.0041 (p-value: 0.000)\n",
    "- **R-squared**: 0.787\n",
    "- **Observation**: The top GOV portfolio shows positive exposure to market risk, small-cap stocks, and value stocks. The high R-squared value indicates a good fit for the model.\n",
    "\n",
    "#### **Bottom GOV Portfolio**:\n",
    "- **Alpha**: 0.0005 (p-value: 0.094)\n",
    "- **Excess Market Return**: 1.0509 (p-value: 0.000)\n",
    "- **SMB (Small Minus Big)**: 0.0029 (p-value: 0.000)\n",
    "- **HML (High Minus Low)**: 0.0067 (p-value: 0.000)\n",
    "- **R-squared**: 0.746\n",
    "- **Observation**: The bottom GOV portfolio shows positive exposure to market risk, small-cap stocks, and value stocks. The high R-squared value indicates a good fit for the model."
   ]
  },
  {
   "cell_type": "markdown",
   "metadata": {
    "id": "ulvcXnt8pQZu"
   },
   "source": [
    "### **Generating tables for report analysis**"
   ]
  },
  {
   "cell_type": "code",
   "execution_count": 55,
   "metadata": {
    "id": "Oz-jTBWtpST-"
   },
   "outputs": [],
   "source": [
    "# Extract the necessary statistics from the regression results\n",
    "def extract_regression_stats(model):\n",
    "    params = model.params\n",
    "    pvalues = model.pvalues\n",
    "    rsquared = model.rsquared\n",
    "    return params.values, pvalues.values, rsquared\n",
    "\n",
    "# Prepare tables for all portfolios\n",
    "tables = {\n",
    "    \"Table 1\": [],\n",
    "    \"Table 2\": [],\n",
    "    \"Table 3\": [],\n",
    "    \"Table 4\": [],\n",
    "    \"Table 5\": [],\n",
    "    \"Table 6\": []\n",
    "}\n",
    "\n",
    "# Populate Table 1: Characteristics of portfolios\n",
    "tables[\"Table 1\"].append([\"ESG_Top\", top_portfolio_esg_returns.mean(), top_portfolio_esg_returns.max(), top_portfolio_esg_returns.min(), top_portfolio_esg_returns.std(), (top_portfolio_esg_returns.mean() / top_portfolio_esg_returns.std())])\n",
    "tables[\"Table 1\"].append([\"ENV_Top\", top_portfolio_env_returns.mean(), top_portfolio_env_returns.max(), top_portfolio_env_returns.min(), top_portfolio_env_returns.std(), (top_portfolio_env_returns.mean() / top_portfolio_env_returns.std())])\n",
    "tables[\"Table 1\"].append([\"SOC_Top\", top_portfolio_soc_returns.mean(), top_portfolio_soc_returns.max(), top_portfolio_soc_returns.min(), top_portfolio_soc_returns.std(), (top_portfolio_soc_returns.mean() / top_portfolio_soc_returns.std())])\n",
    "tables[\"Table 1\"].append([\"GOV_Top\", top_portfolio_gov_returns.mean(), top_portfolio_gov_returns.max(), top_portfolio_gov_returns.min(), top_portfolio_gov_returns.std(), (top_portfolio_gov_returns.mean() / top_portfolio_gov_returns.std())])\n",
    "tables[\"Table 1\"].append([\"ESG_Bottom\", bottom_portfolio_esg_returns.mean(), bottom_portfolio_esg_returns.max(), bottom_portfolio_esg_returns.min(), bottom_portfolio_esg_returns.std(), (bottom_portfolio_esg_returns.mean() / bottom_portfolio_esg_returns.std())])\n",
    "tables[\"Table 1\"].append([\"ENV_Bottom\", bottom_portfolio_env_returns.mean(), bottom_portfolio_env_returns.max(), bottom_portfolio_env_returns.min(), bottom_portfolio_env_returns.std(), (bottom_portfolio_env_returns.mean() / bottom_portfolio_env_returns.std())])\n",
    "tables[\"Table 1\"].append([\"SOC_Bottom\", bottom_portfolio_soc_returns.mean(), bottom_portfolio_soc_returns.max(), bottom_portfolio_soc_returns.min(), bottom_portfolio_soc_returns.std(), (bottom_portfolio_soc_returns.mean() / bottom_portfolio_soc_returns.std())])\n",
    "tables[\"Table 1\"].append([\"GOV_Bottom\", bottom_portfolio_gov_returns.mean(), bottom_portfolio_gov_returns.max(), bottom_portfolio_gov_returns.min(), bottom_portfolio_gov_returns.std(), (bottom_portfolio_gov_returns.mean() / bottom_portfolio_gov_returns.std())])\n",
    "\n",
    "# Populate Table 2: CAPM regression results\n",
    "def populate_capm_table(portfolio_name, model, table):\n",
    "    params, pvalues, rsquared = extract_regression_stats(model)\n",
    "    table.append([portfolio_name, params[0], pvalues[0], params[1], pvalues[1], rsquared])\n",
    "\n",
    "populate_capm_table(\"ESG_Top\", top_portfolio_esg_capm, tables[\"Table 2\"])\n",
    "populate_capm_table(\"ENV_Top\", top_portfolio_env_capm, tables[\"Table 2\"])\n",
    "populate_capm_table(\"SOC_Top\", top_portfolio_soc_capm, tables[\"Table 2\"])\n",
    "populate_capm_table(\"GOV_Top\", top_portfolio_gov_capm, tables[\"Table 2\"])\n",
    "populate_capm_table(\"ESG_Bottom\", bottom_portfolio_esg_capm, tables[\"Table 2\"])\n",
    "populate_capm_table(\"ENV_Bottom\", bottom_portfolio_env_capm, tables[\"Table 2\"])\n",
    "populate_capm_table(\"SOC_Bottom\", bottom_portfolio_soc_capm, tables[\"Table 2\"])\n",
    "populate_capm_table(\"GOV_Bottom\", bottom_portfolio_gov_capm, tables[\"Table 2\"])\n",
    "\n",
    "# Populate Fama-French tables\n",
    "def populate_ff_table(portfolio_name, model, table):\n",
    "    params, pvalues, rsquared = extract_regression_stats(model)\n",
    "    table.append([portfolio_name, params[0], pvalues[0], params[1], pvalues[1], params[2], pvalues[2], params[3], pvalues[3], rsquared])\n",
    "\n",
    "populate_ff_table(\"ESG_Top\", top_portfolio_esg_ff, tables[\"Table 3\"])\n",
    "populate_ff_table(\"ESG_Bottom\", bottom_portfolio_esg_ff, tables[\"Table 3\"])\n",
    "populate_ff_table(\"ENV_Top\", top_portfolio_env_ff, tables[\"Table 4\"])\n",
    "populate_ff_table(\"ENV_Bottom\", bottom_portfolio_env_ff, tables[\"Table 4\"])\n",
    "populate_ff_table(\"SOC_Top\", top_portfolio_soc_ff, tables[\"Table 5\"])\n",
    "populate_ff_table(\"SOC_Bottom\", bottom_portfolio_soc_ff, tables[\"Table 5\"])\n",
    "populate_ff_table(\"GOV_Top\", top_portfolio_gov_ff, tables[\"Table 6\"])\n",
    "populate_ff_table(\"GOV_Bottom\", bottom_portfolio_gov_ff, tables[\"Table 6\"])\n"
   ]
  },
  {
   "cell_type": "markdown",
   "metadata": {
    "id": "2jQrewlXwWvA"
   },
   "source": [
    "### **Table 1: Characteristics of Portfolios**"
   ]
  },
  {
   "cell_type": "code",
   "execution_count": 105,
   "metadata": {
    "colab": {
     "base_uri": "https://localhost:8080/",
     "height": 206
    },
    "id": "eBBo4g0cphqm",
    "outputId": "63ab430e-10b4-431c-9f59-2bc9937d6634"
   },
   "outputs": [
    {
     "data": {
      "text/html": [
       "<style type=\"text/css\">\n",
       "#T_526b2_row0_col0, #T_526b2_row0_col1, #T_526b2_row0_col2, #T_526b2_row0_col3, #T_526b2_row0_col4, #T_526b2_row0_col5, #T_526b2_row0_col6, #T_526b2_row0_col7, #T_526b2_row1_col0, #T_526b2_row1_col1, #T_526b2_row1_col2, #T_526b2_row1_col3, #T_526b2_row1_col4, #T_526b2_row1_col5, #T_526b2_row1_col6, #T_526b2_row1_col7, #T_526b2_row2_col0, #T_526b2_row2_col1, #T_526b2_row2_col2, #T_526b2_row2_col3, #T_526b2_row2_col4, #T_526b2_row2_col5, #T_526b2_row2_col6, #T_526b2_row2_col7, #T_526b2_row3_col0, #T_526b2_row3_col1, #T_526b2_row3_col2, #T_526b2_row3_col3, #T_526b2_row3_col4, #T_526b2_row3_col5, #T_526b2_row3_col6, #T_526b2_row3_col7, #T_526b2_row4_col0, #T_526b2_row4_col1, #T_526b2_row4_col2, #T_526b2_row4_col3, #T_526b2_row4_col4, #T_526b2_row4_col5, #T_526b2_row4_col6, #T_526b2_row4_col7 {\n",
       "  text-align: left;\n",
       "}\n",
       "</style>\n",
       "<table id=\"T_526b2\" class=\"dataframe\">\n",
       "  <thead>\n",
       "    <tr>\n",
       "      <th class=\"blank level0\" >&nbsp;</th>\n",
       "      <th id=\"T_526b2_level0_col0\" class=\"col_heading level0 col0\" >ESG_Top</th>\n",
       "      <th id=\"T_526b2_level0_col1\" class=\"col_heading level0 col1\" >ENV_Top</th>\n",
       "      <th id=\"T_526b2_level0_col2\" class=\"col_heading level0 col2\" >SOC_Top</th>\n",
       "      <th id=\"T_526b2_level0_col3\" class=\"col_heading level0 col3\" >GOV_Top</th>\n",
       "      <th id=\"T_526b2_level0_col4\" class=\"col_heading level0 col4\" >ESG_Bottom</th>\n",
       "      <th id=\"T_526b2_level0_col5\" class=\"col_heading level0 col5\" >ENV_Bottom</th>\n",
       "      <th id=\"T_526b2_level0_col6\" class=\"col_heading level0 col6\" >SOC_Bottom</th>\n",
       "      <th id=\"T_526b2_level0_col7\" class=\"col_heading level0 col7\" >GOV_Bottom</th>\n",
       "    </tr>\n",
       "  </thead>\n",
       "  <tbody>\n",
       "    <tr>\n",
       "      <th id=\"T_526b2_level0_row0\" class=\"row_heading level0 row0\" >Mean</th>\n",
       "      <td id=\"T_526b2_row0_col0\" class=\"data row0 col0\" >0.000940</td>\n",
       "      <td id=\"T_526b2_row0_col1\" class=\"data row0 col1\" >0.000876</td>\n",
       "      <td id=\"T_526b2_row0_col2\" class=\"data row0 col2\" >0.000815</td>\n",
       "      <td id=\"T_526b2_row0_col3\" class=\"data row0 col3\" >0.000774</td>\n",
       "      <td id=\"T_526b2_row0_col4\" class=\"data row0 col4\" >0.000975</td>\n",
       "      <td id=\"T_526b2_row0_col5\" class=\"data row0 col5\" >0.001425</td>\n",
       "      <td id=\"T_526b2_row0_col6\" class=\"data row0 col6\" >0.000888</td>\n",
       "      <td id=\"T_526b2_row0_col7\" class=\"data row0 col7\" >0.000904</td>\n",
       "    </tr>\n",
       "    <tr>\n",
       "      <th id=\"T_526b2_level0_row1\" class=\"row_heading level0 row1\" >Maximum</th>\n",
       "      <td id=\"T_526b2_row1_col0\" class=\"data row1 col0\" >0.049066</td>\n",
       "      <td id=\"T_526b2_row1_col1\" class=\"data row1 col1\" >0.057302</td>\n",
       "      <td id=\"T_526b2_row1_col2\" class=\"data row1 col2\" >0.072155</td>\n",
       "      <td id=\"T_526b2_row1_col3\" class=\"data row1 col3\" >0.084141</td>\n",
       "      <td id=\"T_526b2_row1_col4\" class=\"data row1 col4\" >0.069054</td>\n",
       "      <td id=\"T_526b2_row1_col5\" class=\"data row1 col5\" >0.741996</td>\n",
       "      <td id=\"T_526b2_row1_col6\" class=\"data row1 col6\" >0.060764</td>\n",
       "      <td id=\"T_526b2_row1_col7\" class=\"data row1 col7\" >0.081571</td>\n",
       "    </tr>\n",
       "    <tr>\n",
       "      <th id=\"T_526b2_level0_row2\" class=\"row_heading level0 row2\" >Minimum</th>\n",
       "      <td id=\"T_526b2_row2_col0\" class=\"data row2 col0\" >-0.044040</td>\n",
       "      <td id=\"T_526b2_row2_col1\" class=\"data row2 col1\" >-0.043565</td>\n",
       "      <td id=\"T_526b2_row2_col2\" class=\"data row2 col2\" >-0.048456</td>\n",
       "      <td id=\"T_526b2_row2_col3\" class=\"data row2 col3\" >-0.062475</td>\n",
       "      <td id=\"T_526b2_row2_col4\" class=\"data row2 col4\" >-0.057141</td>\n",
       "      <td id=\"T_526b2_row2_col5\" class=\"data row2 col5\" >-0.054132</td>\n",
       "      <td id=\"T_526b2_row2_col6\" class=\"data row2 col6\" >-0.057491</td>\n",
       "      <td id=\"T_526b2_row2_col7\" class=\"data row2 col7\" >-0.067012</td>\n",
       "    </tr>\n",
       "    <tr>\n",
       "      <th id=\"T_526b2_level0_row3\" class=\"row_heading level0 row3\" >Std. dev.</th>\n",
       "      <td id=\"T_526b2_row3_col0\" class=\"data row3 col0\" >0.010780</td>\n",
       "      <td id=\"T_526b2_row3_col1\" class=\"data row3 col1\" >0.010639</td>\n",
       "      <td id=\"T_526b2_row3_col2\" class=\"data row3 col2\" >0.012391</td>\n",
       "      <td id=\"T_526b2_row3_col3\" class=\"data row3 col3\" >0.012803</td>\n",
       "      <td id=\"T_526b2_row3_col4\" class=\"data row3 col4\" >0.011723</td>\n",
       "      <td id=\"T_526b2_row3_col5\" class=\"data row3 col5\" >0.023263</td>\n",
       "      <td id=\"T_526b2_row3_col6\" class=\"data row3 col6\" >0.011096</td>\n",
       "      <td id=\"T_526b2_row3_col7\" class=\"data row3 col7\" >0.011635</td>\n",
       "    </tr>\n",
       "    <tr>\n",
       "      <th id=\"T_526b2_level0_row4\" class=\"row_heading level0 row4\" >SR</th>\n",
       "      <td id=\"T_526b2_row4_col0\" class=\"data row4 col0\" >0.087222</td>\n",
       "      <td id=\"T_526b2_row4_col1\" class=\"data row4 col1\" >0.082330</td>\n",
       "      <td id=\"T_526b2_row4_col2\" class=\"data row4 col2\" >0.065768</td>\n",
       "      <td id=\"T_526b2_row4_col3\" class=\"data row4 col3\" >0.060431</td>\n",
       "      <td id=\"T_526b2_row4_col4\" class=\"data row4 col4\" >0.083147</td>\n",
       "      <td id=\"T_526b2_row4_col5\" class=\"data row4 col5\" >0.061261</td>\n",
       "      <td id=\"T_526b2_row4_col6\" class=\"data row4 col6\" >0.080037</td>\n",
       "      <td id=\"T_526b2_row4_col7\" class=\"data row4 col7\" >0.077680</td>\n",
       "    </tr>\n",
       "  </tbody>\n",
       "</table>\n"
      ],
      "text/plain": [
       "<pandas.io.formats.style.Styler at 0x78ee48ecdb10>"
      ]
     },
     "metadata": {},
     "output_type": "display_data"
    }
   ],
   "source": [
    "from IPython.display import display\n",
    "\n",
    "# Function to calculate the Sharpe Ratio\n",
    "def sharpe_ratio(returns):\n",
    "    return returns.mean() / returns.std()\n",
    "\n",
    "# Data preparation\n",
    "portfolios = {\n",
    "    \"ESG_Top\": top_portfolio_esg_returns,\n",
    "    \"ENV_Top\": top_portfolio_env_returns,\n",
    "    \"SOC_Top\": top_portfolio_soc_returns,\n",
    "    \"GOV_Top\": top_portfolio_gov_returns,\n",
    "    \"ESG_Bottom\": bottom_portfolio_esg_returns,\n",
    "    \"ENV_Bottom\": bottom_portfolio_env_returns,\n",
    "    \"SOC_Bottom\": bottom_portfolio_soc_returns,\n",
    "    \"GOV_Bottom\": bottom_portfolio_gov_returns,\n",
    "}\n",
    "\n",
    "# Calculate metrics\n",
    "metrics = [\"Mean\", \"Maximum\", \"Minimum\", \"Std. dev.\", \"SR\"]\n",
    "data = {metric: [] for metric in metrics}\n",
    "\n",
    "for name, returns in portfolios.items():\n",
    "    data[\"Mean\"].append(returns.mean())\n",
    "    data[\"Maximum\"].append(returns.max())\n",
    "    data[\"Minimum\"].append(returns.min())\n",
    "    data[\"Std. dev.\"].append(returns.std())\n",
    "    data[\"SR\"].append(sharpe_ratio(returns))\n",
    "\n",
    "# Create DataFrame\n",
    "table_1_df = pd.DataFrame(data, index=portfolios.keys())\n",
    "\n",
    "# Transpose DataFrame\n",
    "table_1_df = table_1_df.T\n",
    "\n",
    "# Align text to the left and display the DataFrame\n",
    "pd.options.display.float_format = '{:.4f}'.format\n",
    "display(table_1_df.style.set_properties(**{'text-align': 'left'}))\n"
   ]
  },
  {
   "cell_type": "markdown",
   "metadata": {
    "id": "K8jjfUxtwbe_"
   },
   "source": [
    "### **Table 2: The CAPM Regression Results**"
   ]
  },
  {
   "cell_type": "code",
   "execution_count": 108,
   "metadata": {
    "colab": {
     "base_uri": "https://localhost:8080/",
     "height": 206
    },
    "id": "cZMmEiYkrbyt",
    "outputId": "f5469ab2-c7c0-4965-bea4-a7dc95e32822"
   },
   "outputs": [
    {
     "data": {
      "text/html": [
       "<style type=\"text/css\">\n",
       "#T_d394d_row0_col0, #T_d394d_row0_col1, #T_d394d_row0_col2, #T_d394d_row0_col3, #T_d394d_row0_col4, #T_d394d_row0_col5, #T_d394d_row0_col6, #T_d394d_row0_col7, #T_d394d_row1_col0, #T_d394d_row1_col1, #T_d394d_row1_col2, #T_d394d_row1_col3, #T_d394d_row1_col4, #T_d394d_row1_col5, #T_d394d_row1_col6, #T_d394d_row1_col7, #T_d394d_row2_col0, #T_d394d_row2_col1, #T_d394d_row2_col2, #T_d394d_row2_col3, #T_d394d_row2_col4, #T_d394d_row2_col5, #T_d394d_row2_col6, #T_d394d_row2_col7, #T_d394d_row3_col0, #T_d394d_row3_col1, #T_d394d_row3_col2, #T_d394d_row3_col3, #T_d394d_row3_col4, #T_d394d_row3_col5, #T_d394d_row3_col6, #T_d394d_row3_col7, #T_d394d_row4_col0, #T_d394d_row4_col1, #T_d394d_row4_col2, #T_d394d_row4_col3, #T_d394d_row4_col4, #T_d394d_row4_col5, #T_d394d_row4_col6, #T_d394d_row4_col7 {\n",
       "  text-align: left;\n",
       "}\n",
       "</style>\n",
       "<table id=\"T_d394d\" class=\"dataframe\">\n",
       "  <thead>\n",
       "    <tr>\n",
       "      <th class=\"blank level0\" >&nbsp;</th>\n",
       "      <th id=\"T_d394d_level0_col0\" class=\"col_heading level0 col0\" >ESG_Top</th>\n",
       "      <th id=\"T_d394d_level0_col1\" class=\"col_heading level0 col1\" >ENV_Top</th>\n",
       "      <th id=\"T_d394d_level0_col2\" class=\"col_heading level0 col2\" >SOC_Top</th>\n",
       "      <th id=\"T_d394d_level0_col3\" class=\"col_heading level0 col3\" >GOV_Top</th>\n",
       "      <th id=\"T_d394d_level0_col4\" class=\"col_heading level0 col4\" >ESG_Bottom</th>\n",
       "      <th id=\"T_d394d_level0_col5\" class=\"col_heading level0 col5\" >ENV_Bottom</th>\n",
       "      <th id=\"T_d394d_level0_col6\" class=\"col_heading level0 col6\" >SOC_Bottom</th>\n",
       "      <th id=\"T_d394d_level0_col7\" class=\"col_heading level0 col7\" >GOV_Bottom</th>\n",
       "    </tr>\n",
       "  </thead>\n",
       "  <tbody>\n",
       "    <tr>\n",
       "      <th id=\"T_d394d_level0_row0\" class=\"row_heading level0 row0\" >Alpha</th>\n",
       "      <td id=\"T_d394d_row0_col0\" class=\"data row0 col0\" >0.000837</td>\n",
       "      <td id=\"T_d394d_row0_col1\" class=\"data row0 col1\" >0.000802</td>\n",
       "      <td id=\"T_d394d_row0_col2\" class=\"data row0 col2\" >0.000756</td>\n",
       "      <td id=\"T_d394d_row0_col3\" class=\"data row0 col3\" >0.000460</td>\n",
       "      <td id=\"T_d394d_row0_col4\" class=\"data row0 col4\" >0.001039</td>\n",
       "      <td id=\"T_d394d_row0_col5\" class=\"data row0 col5\" >0.002606</td>\n",
       "      <td id=\"T_d394d_row0_col6\" class=\"data row0 col6\" >0.000791</td>\n",
       "      <td id=\"T_d394d_row0_col7\" class=\"data row0 col7\" >0.000983</td>\n",
       "    </tr>\n",
       "    <tr>\n",
       "      <th id=\"T_d394d_level0_row1\" class=\"row_heading level0 row1\" >Alpha p-value</th>\n",
       "      <td id=\"T_d394d_row1_col0\" class=\"data row1 col0\" >0.025078</td>\n",
       "      <td id=\"T_d394d_row1_col1\" class=\"data row1 col1\" >0.046041</td>\n",
       "      <td id=\"T_d394d_row1_col2\" class=\"data row1 col2\" >0.016272</td>\n",
       "      <td id=\"T_d394d_row1_col3\" class=\"data row1 col3\" >0.167245</td>\n",
       "      <td id=\"T_d394d_row1_col4\" class=\"data row1 col4\" >0.000105</td>\n",
       "      <td id=\"T_d394d_row1_col5\" class=\"data row1 col5\" >0.137110</td>\n",
       "      <td id=\"T_d394d_row1_col6\" class=\"data row1 col6\" >0.004695</td>\n",
       "      <td id=\"T_d394d_row1_col7\" class=\"data row1 col7\" >0.003998</td>\n",
       "    </tr>\n",
       "    <tr>\n",
       "      <th id=\"T_d394d_level0_row2\" class=\"row_heading level0 row2\" >Market Risk Premium</th>\n",
       "      <td id=\"T_d394d_row2_col0\" class=\"data row2 col0\" >0.658877</td>\n",
       "      <td id=\"T_d394d_row2_col1\" class=\"data row2 col1\" >0.589476</td>\n",
       "      <td id=\"T_d394d_row2_col2\" class=\"data row2 col2\" >0.935855</td>\n",
       "      <td id=\"T_d394d_row2_col3\" class=\"data row2 col3\" >0.952261</td>\n",
       "      <td id=\"T_d394d_row2_col4\" class=\"data row2 col4\" >0.891174</td>\n",
       "      <td id=\"T_d394d_row2_col5\" class=\"data row2 col5\" >1.053093</td>\n",
       "      <td id=\"T_d394d_row2_col6\" class=\"data row2 col6\" >0.812744</td>\n",
       "      <td id=\"T_d394d_row2_col7\" class=\"data row2 col7\" >0.811725</td>\n",
       "    </tr>\n",
       "    <tr>\n",
       "      <th id=\"T_d394d_level0_row3\" class=\"row_heading level0 row3\" >Market Risk Premium p-value</th>\n",
       "      <td id=\"T_d394d_row3_col0\" class=\"data row3 col0\" >0.000000</td>\n",
       "      <td id=\"T_d394d_row3_col1\" class=\"data row3 col1\" >0.000000</td>\n",
       "      <td id=\"T_d394d_row3_col2\" class=\"data row3 col2\" >0.000000</td>\n",
       "      <td id=\"T_d394d_row3_col3\" class=\"data row3 col3\" >0.000000</td>\n",
       "      <td id=\"T_d394d_row3_col4\" class=\"data row3 col4\" >0.000000</td>\n",
       "      <td id=\"T_d394d_row3_col5\" class=\"data row3 col5\" >0.000000</td>\n",
       "      <td id=\"T_d394d_row3_col6\" class=\"data row3 col6\" >0.000000</td>\n",
       "      <td id=\"T_d394d_row3_col7\" class=\"data row3 col7\" >0.000000</td>\n",
       "    </tr>\n",
       "    <tr>\n",
       "      <th id=\"T_d394d_level0_row4\" class=\"row_heading level0 row4\" >R^2</th>\n",
       "      <td id=\"T_d394d_row4_col0\" class=\"data row4 col0\" >0.502128</td>\n",
       "      <td id=\"T_d394d_row4_col1\" class=\"data row4 col1\" >0.410664</td>\n",
       "      <td id=\"T_d394d_row4_col2\" class=\"data row4 col2\" >0.741926</td>\n",
       "      <td id=\"T_d394d_row4_col3\" class=\"data row4 col3\" >0.725687</td>\n",
       "      <td id=\"T_d394d_row4_col4\" class=\"data row4 col4\" >0.783985</td>\n",
       "      <td id=\"T_d394d_row4_col5\" class=\"data row4 col5\" >0.104514</td>\n",
       "      <td id=\"T_d394d_row4_col6\" class=\"data row4 col6\" >0.733138</td>\n",
       "      <td id=\"T_d394d_row4_col7\" class=\"data row4 col7\" >0.647776</td>\n",
       "    </tr>\n",
       "  </tbody>\n",
       "</table>\n"
      ],
      "text/plain": [
       "<pandas.io.formats.style.Styler at 0x78ee4a4b54b0>"
      ]
     },
     "metadata": {},
     "output_type": "display_data"
    }
   ],
   "source": [
    "# Function to extract CAPM regression statistics\n",
    "def capm_stats(model):\n",
    "    params = model.params\n",
    "    pvalues = model.pvalues\n",
    "    rsquared = model.rsquared\n",
    "    return [params.iloc[0], pvalues.iloc[0], params.iloc[1], pvalues.iloc[1], rsquared]\n",
    "\n",
    "# Populate Table 2\n",
    "capm_data = {\n",
    "    \"Alpha\": [],\n",
    "    \"Alpha p-value\": [],\n",
    "    \"Market Risk Premium\": [],\n",
    "    \"Market Risk Premium p-value\": [],\n",
    "    \"R^2\": []\n",
    "}\n",
    "capm_portfolios = {\n",
    "    \"ESG_Top\": top_portfolio_esg_capm,\n",
    "    \"ENV_Top\": top_portfolio_env_capm,\n",
    "    \"SOC_Top\": top_portfolio_soc_capm,\n",
    "    \"GOV_Top\": top_portfolio_gov_capm,\n",
    "    \"ESG_Bottom\": bottom_portfolio_esg_capm,\n",
    "    \"ENV_Bottom\": bottom_portfolio_env_capm,\n",
    "    \"SOC_Bottom\": bottom_portfolio_soc_capm,\n",
    "    \"GOV_Bottom\": bottom_portfolio_gov_capm,\n",
    "}\n",
    "\n",
    "for name, model in capm_portfolios.items():\n",
    "    stats = capm_stats(model)\n",
    "    capm_data[\"Alpha\"].append(stats[0])\n",
    "    capm_data[\"Alpha p-value\"].append(stats[1])\n",
    "    capm_data[\"Market Risk Premium\"].append(stats[2])\n",
    "    capm_data[\"Market Risk Premium p-value\"].append(stats[3])\n",
    "    capm_data[\"R^2\"].append(stats[4])\n",
    "\n",
    "# Create DataFrame for Table 2\n",
    "table_2_df = pd.DataFrame(capm_data, index=capm_portfolios.keys())\n",
    "\n",
    "# Transpose DataFrame\n",
    "table_2_df = table_2_df.T\n",
    "\n",
    "# Align text to the left and display the DataFrame\n",
    "display(table_2_df.style.set_properties(**{'text-align': 'left'}))\n"
   ]
  },
  {
   "cell_type": "markdown",
   "metadata": {
    "id": "3mlj98kkwg__"
   },
   "source": [
    "### **Table 3: Time Series Regression Results for ESG Portfolios**"
   ]
  },
  {
   "cell_type": "code",
   "execution_count": 109,
   "metadata": {
    "colab": {
     "base_uri": "https://localhost:8080/",
     "height": 331
    },
    "id": "44N2o5IYsB5-",
    "outputId": "250c10a5-e5a7-400c-fd27-8dfaa1167c29"
   },
   "outputs": [
    {
     "data": {
      "text/html": [
       "<style type=\"text/css\">\n",
       "#T_1cf1c_row0_col0, #T_1cf1c_row0_col1, #T_1cf1c_row1_col0, #T_1cf1c_row1_col1, #T_1cf1c_row2_col0, #T_1cf1c_row2_col1, #T_1cf1c_row3_col0, #T_1cf1c_row3_col1, #T_1cf1c_row4_col0, #T_1cf1c_row4_col1, #T_1cf1c_row5_col0, #T_1cf1c_row5_col1, #T_1cf1c_row6_col0, #T_1cf1c_row6_col1, #T_1cf1c_row7_col0, #T_1cf1c_row7_col1, #T_1cf1c_row8_col0, #T_1cf1c_row8_col1 {\n",
       "  text-align: left;\n",
       "}\n",
       "</style>\n",
       "<table id=\"T_1cf1c\" class=\"dataframe\">\n",
       "  <thead>\n",
       "    <tr>\n",
       "      <th class=\"blank level0\" >&nbsp;</th>\n",
       "      <th id=\"T_1cf1c_level0_col0\" class=\"col_heading level0 col0\" >ESG_Top</th>\n",
       "      <th id=\"T_1cf1c_level0_col1\" class=\"col_heading level0 col1\" >ESG_Bottom</th>\n",
       "    </tr>\n",
       "  </thead>\n",
       "  <tbody>\n",
       "    <tr>\n",
       "      <th id=\"T_1cf1c_level0_row0\" class=\"row_heading level0 row0\" >Alpha</th>\n",
       "      <td id=\"T_1cf1c_row0_col0\" class=\"data row0 col0\" >0.000303</td>\n",
       "      <td id=\"T_1cf1c_row0_col1\" class=\"data row0 col1\" >0.000745</td>\n",
       "    </tr>\n",
       "    <tr>\n",
       "      <th id=\"T_1cf1c_level0_row1\" class=\"row_heading level0 row1\" >Alpha p-value</th>\n",
       "      <td id=\"T_1cf1c_row1_col0\" class=\"data row1 col0\" >0.358073</td>\n",
       "      <td id=\"T_1cf1c_row1_col1\" class=\"data row1 col1\" >0.002930</td>\n",
       "    </tr>\n",
       "    <tr>\n",
       "      <th id=\"T_1cf1c_level0_row2\" class=\"row_heading level0 row2\" >Market Risk Premium</th>\n",
       "      <td id=\"T_1cf1c_row2_col0\" class=\"data row2 col0\" >0.906837</td>\n",
       "      <td id=\"T_1cf1c_row2_col1\" class=\"data row2 col1\" >1.007023</td>\n",
       "    </tr>\n",
       "    <tr>\n",
       "      <th id=\"T_1cf1c_level0_row3\" class=\"row_heading level0 row3\" >Market Risk Premium p-value</th>\n",
       "      <td id=\"T_1cf1c_row3_col0\" class=\"data row3 col0\" >0.000000</td>\n",
       "      <td id=\"T_1cf1c_row3_col1\" class=\"data row3 col1\" >0.000000</td>\n",
       "    </tr>\n",
       "    <tr>\n",
       "      <th id=\"T_1cf1c_level0_row4\" class=\"row_heading level0 row4\" >SMB</th>\n",
       "      <td id=\"T_1cf1c_row4_col0\" class=\"data row4 col0\" >0.003800</td>\n",
       "      <td id=\"T_1cf1c_row4_col1\" class=\"data row4 col1\" >0.003317</td>\n",
       "    </tr>\n",
       "    <tr>\n",
       "      <th id=\"T_1cf1c_level0_row5\" class=\"row_heading level0 row5\" >SMB p-value</th>\n",
       "      <td id=\"T_1cf1c_row5_col0\" class=\"data row5 col0\" >0.000000</td>\n",
       "      <td id=\"T_1cf1c_row5_col1\" class=\"data row5 col1\" >0.000000</td>\n",
       "    </tr>\n",
       "    <tr>\n",
       "      <th id=\"T_1cf1c_level0_row6\" class=\"row_heading level0 row6\" >HML</th>\n",
       "      <td id=\"T_1cf1c_row6_col0\" class=\"data row6 col0\" >0.006817</td>\n",
       "      <td id=\"T_1cf1c_row6_col1\" class=\"data row6 col1\" >0.002848</td>\n",
       "    </tr>\n",
       "    <tr>\n",
       "      <th id=\"T_1cf1c_level0_row7\" class=\"row_heading level0 row7\" >HML p-value</th>\n",
       "      <td id=\"T_1cf1c_row7_col0\" class=\"data row7 col0\" >0.000000</td>\n",
       "      <td id=\"T_1cf1c_row7_col1\" class=\"data row7 col1\" >0.000000</td>\n",
       "    </tr>\n",
       "    <tr>\n",
       "      <th id=\"T_1cf1c_level0_row8\" class=\"row_heading level0 row8\" >R^2</th>\n",
       "      <td id=\"T_1cf1c_row8_col0\" class=\"data row8 col0\" >0.620769</td>\n",
       "      <td id=\"T_1cf1c_row8_col1\" class=\"data row8 col1\" >0.814930</td>\n",
       "    </tr>\n",
       "  </tbody>\n",
       "</table>\n"
      ],
      "text/plain": [
       "<pandas.io.formats.style.Styler at 0x78ee4821baf0>"
      ]
     },
     "metadata": {},
     "output_type": "display_data"
    }
   ],
   "source": [
    "# Function to extract Fama-French regression statistics\n",
    "def ff_stats(model):\n",
    "    params = model.params\n",
    "    pvalues = model.pvalues\n",
    "    rsquared = model.rsquared\n",
    "    return [\n",
    "        params.iloc[0], pvalues.iloc[0], params.iloc[1], pvalues.iloc[1],\n",
    "        params.iloc[2], pvalues.iloc[2], params.iloc[3], pvalues.iloc[3], rsquared\n",
    "    ]\n",
    "\n",
    "# Populate Table 3\n",
    "ff_data = {\n",
    "    \"Alpha\": [],\n",
    "    \"Alpha p-value\": [],\n",
    "    \"Market Risk Premium\": [],\n",
    "    \"Market Risk Premium p-value\": [],\n",
    "    \"SMB\": [],\n",
    "    \"SMB p-value\": [],\n",
    "    \"HML\": [],\n",
    "    \"HML p-value\": [],\n",
    "    \"R^2\": []\n",
    "}\n",
    "ff_portfolios = {\n",
    "    \"ESG_Top\": top_portfolio_esg_ff,\n",
    "    \"ESG_Bottom\": bottom_portfolio_esg_ff\n",
    "}\n",
    "\n",
    "for name, model in ff_portfolios.items():\n",
    "    stats = ff_stats(model)\n",
    "    ff_data[\"Alpha\"].append(stats[0])\n",
    "    ff_data[\"Alpha p-value\"].append(stats[1])\n",
    "    ff_data[\"Market Risk Premium\"].append(stats[2])\n",
    "    ff_data[\"Market Risk Premium p-value\"].append(stats[3])\n",
    "    ff_data[\"SMB\"].append(stats[4])\n",
    "    ff_data[\"SMB p-value\"].append(stats[5])\n",
    "    ff_data[\"HML\"].append(stats[6])\n",
    "    ff_data[\"HML p-value\"].append(stats[7])\n",
    "    ff_data[\"R^2\"].append(stats[8])\n",
    "\n",
    "# Create DataFrame for Table 3\n",
    "table_3_df = pd.DataFrame(ff_data, index=ff_portfolios.keys())\n",
    "\n",
    "# Transpose DataFrame\n",
    "table_3_df = table_3_df.T\n",
    "\n",
    "# Align text to the left and display the DataFrame\n",
    "display(table_3_df.style.set_properties(**{'text-align': 'left'}))\n"
   ]
  },
  {
   "cell_type": "markdown",
   "metadata": {
    "id": "Y_1GiEARwiUn"
   },
   "source": [
    "### **Table 4: Time Series Regression Results for ENV Portfolios**"
   ]
  },
  {
   "cell_type": "code",
   "execution_count": 110,
   "metadata": {
    "colab": {
     "base_uri": "https://localhost:8080/",
     "height": 331
    },
    "id": "7NN10JJVsLXO",
    "outputId": "9a13b5af-8504-4f32-b1de-e3b41138cd18"
   },
   "outputs": [
    {
     "data": {
      "text/html": [
       "<style type=\"text/css\">\n",
       "#T_71137_row0_col0, #T_71137_row0_col1, #T_71137_row1_col0, #T_71137_row1_col1, #T_71137_row2_col0, #T_71137_row2_col1, #T_71137_row3_col0, #T_71137_row3_col1, #T_71137_row4_col0, #T_71137_row4_col1, #T_71137_row5_col0, #T_71137_row5_col1, #T_71137_row6_col0, #T_71137_row6_col1, #T_71137_row7_col0, #T_71137_row7_col1, #T_71137_row8_col0, #T_71137_row8_col1 {\n",
       "  text-align: left;\n",
       "}\n",
       "</style>\n",
       "<table id=\"T_71137\" class=\"dataframe\">\n",
       "  <thead>\n",
       "    <tr>\n",
       "      <th class=\"blank level0\" >&nbsp;</th>\n",
       "      <th id=\"T_71137_level0_col0\" class=\"col_heading level0 col0\" >ENV_Top</th>\n",
       "      <th id=\"T_71137_level0_col1\" class=\"col_heading level0 col1\" >ENV_Bottom</th>\n",
       "    </tr>\n",
       "  </thead>\n",
       "  <tbody>\n",
       "    <tr>\n",
       "      <th id=\"T_71137_level0_row0\" class=\"row_heading level0 row0\" >Alpha</th>\n",
       "      <td id=\"T_71137_row0_col0\" class=\"data row0 col0\" >0.000277</td>\n",
       "      <td id=\"T_71137_row0_col1\" class=\"data row0 col1\" >0.002469</td>\n",
       "    </tr>\n",
       "    <tr>\n",
       "      <th id=\"T_71137_level0_row1\" class=\"row_heading level0 row1\" >Alpha p-value</th>\n",
       "      <td id=\"T_71137_row1_col0\" class=\"data row1 col0\" >0.435263</td>\n",
       "      <td id=\"T_71137_row1_col1\" class=\"data row1 col1\" >0.164244</td>\n",
       "    </tr>\n",
       "    <tr>\n",
       "      <th id=\"T_71137_level0_row2\" class=\"row_heading level0 row2\" >Market Risk Premium</th>\n",
       "      <td id=\"T_71137_row2_col0\" class=\"data row2 col0\" >0.847498</td>\n",
       "      <td id=\"T_71137_row2_col1\" class=\"data row2 col1\" >1.104987</td>\n",
       "    </tr>\n",
       "    <tr>\n",
       "      <th id=\"T_71137_level0_row3\" class=\"row_heading level0 row3\" >Market Risk Premium p-value</th>\n",
       "      <td id=\"T_71137_row3_col0\" class=\"data row3 col0\" >0.000000</td>\n",
       "      <td id=\"T_71137_row3_col1\" class=\"data row3 col1\" >0.000000</td>\n",
       "    </tr>\n",
       "    <tr>\n",
       "      <th id=\"T_71137_level0_row4\" class=\"row_heading level0 row4\" >SMB</th>\n",
       "      <td id=\"T_71137_row4_col0\" class=\"data row4 col0\" >0.002894</td>\n",
       "      <td id=\"T_71137_row4_col1\" class=\"data row4 col1\" >0.001643</td>\n",
       "    </tr>\n",
       "    <tr>\n",
       "      <th id=\"T_71137_level0_row5\" class=\"row_heading level0 row5\" >SMB p-value</th>\n",
       "      <td id=\"T_71137_row5_col0\" class=\"data row5 col0\" >0.000001</td>\n",
       "      <td id=\"T_71137_row5_col1\" class=\"data row5 col1\" >0.575347</td>\n",
       "    </tr>\n",
       "    <tr>\n",
       "      <th id=\"T_71137_level0_row6\" class=\"row_heading level0 row6\" >HML</th>\n",
       "      <td id=\"T_71137_row6_col0\" class=\"data row6 col0\" >0.007325</td>\n",
       "      <td id=\"T_71137_row6_col1\" class=\"data row6 col1\" >0.001242</td>\n",
       "    </tr>\n",
       "    <tr>\n",
       "      <th id=\"T_71137_level0_row7\" class=\"row_heading level0 row7\" >HML p-value</th>\n",
       "      <td id=\"T_71137_row7_col0\" class=\"data row7 col0\" >0.000000</td>\n",
       "      <td id=\"T_71137_row7_col1\" class=\"data row7 col1\" >0.697680</td>\n",
       "    </tr>\n",
       "    <tr>\n",
       "      <th id=\"T_71137_level0_row8\" class=\"row_heading level0 row8\" >R^2</th>\n",
       "      <td id=\"T_71137_row8_col0\" class=\"data row8 col0\" >0.550747</td>\n",
       "      <td id=\"T_71137_row8_col1\" class=\"data row8 col1\" >0.105201</td>\n",
       "    </tr>\n",
       "  </tbody>\n",
       "</table>\n"
      ],
      "text/plain": [
       "<pandas.io.formats.style.Styler at 0x78ee4821a6e0>"
      ]
     },
     "metadata": {},
     "output_type": "display_data"
    }
   ],
   "source": [
    "# Populate Table 4\n",
    "ff_data_env = {\n",
    "    \"Alpha\": [],\n",
    "    \"Alpha p-value\": [],\n",
    "    \"Market Risk Premium\": [],\n",
    "    \"Market Risk Premium p-value\": [],\n",
    "    \"SMB\": [],\n",
    "    \"SMB p-value\": [],\n",
    "    \"HML\": [],\n",
    "    \"HML p-value\": [],\n",
    "    \"R^2\": []\n",
    "}\n",
    "ff_portfolios_env = {\n",
    "    \"ENV_Top\": top_portfolio_env_ff,\n",
    "    \"ENV_Bottom\": bottom_portfolio_env_ff\n",
    "}\n",
    "\n",
    "for name, model in ff_portfolios_env.items():\n",
    "    stats = ff_stats(model)\n",
    "    ff_data_env[\"Alpha\"].append(stats[0])\n",
    "    ff_data_env[\"Alpha p-value\"].append(stats[1])\n",
    "    ff_data_env[\"Market Risk Premium\"].append(stats[2])\n",
    "    ff_data_env[\"Market Risk Premium p-value\"].append(stats[3])\n",
    "    ff_data_env[\"SMB\"].append(stats[4])\n",
    "    ff_data_env[\"SMB p-value\"].append(stats[5])\n",
    "    ff_data_env[\"HML\"].append(stats[6])\n",
    "    ff_data_env[\"HML p-value\"].append(stats[7])\n",
    "    ff_data_env[\"R^2\"].append(stats[8])\n",
    "\n",
    "# Create DataFrame for Table 4\n",
    "table_4_df = pd.DataFrame(ff_data_env, index=ff_portfolios_env.keys())\n",
    "\n",
    "# Transpose DataFrame\n",
    "table_4_df = table_4_df.T\n",
    "\n",
    "# Align text to the left and display the DataFrame\n",
    "display(table_4_df.style.set_properties(**{'text-align': 'left'}))\n"
   ]
  },
  {
   "cell_type": "markdown",
   "metadata": {
    "id": "mzAJrj2PwnY3"
   },
   "source": [
    "### **Table 5: Time Series Regression Results for SOC Portfolios**"
   ]
  },
  {
   "cell_type": "code",
   "execution_count": 111,
   "metadata": {
    "colab": {
     "base_uri": "https://localhost:8080/",
     "height": 331
    },
    "id": "bbrL_kCMsORd",
    "outputId": "afacf06e-657b-4d29-faf0-c667e1db77e1"
   },
   "outputs": [
    {
     "data": {
      "text/html": [
       "<style type=\"text/css\">\n",
       "#T_0bbae_row0_col0, #T_0bbae_row0_col1, #T_0bbae_row1_col0, #T_0bbae_row1_col1, #T_0bbae_row2_col0, #T_0bbae_row2_col1, #T_0bbae_row3_col0, #T_0bbae_row3_col1, #T_0bbae_row4_col0, #T_0bbae_row4_col1, #T_0bbae_row5_col0, #T_0bbae_row5_col1, #T_0bbae_row6_col0, #T_0bbae_row6_col1, #T_0bbae_row7_col0, #T_0bbae_row7_col1, #T_0bbae_row8_col0, #T_0bbae_row8_col1 {\n",
       "  text-align: left;\n",
       "}\n",
       "</style>\n",
       "<table id=\"T_0bbae\" class=\"dataframe\">\n",
       "  <thead>\n",
       "    <tr>\n",
       "      <th class=\"blank level0\" >&nbsp;</th>\n",
       "      <th id=\"T_0bbae_level0_col0\" class=\"col_heading level0 col0\" >SOC_Top</th>\n",
       "      <th id=\"T_0bbae_level0_col1\" class=\"col_heading level0 col1\" >SOC_Bottom</th>\n",
       "    </tr>\n",
       "  </thead>\n",
       "  <tbody>\n",
       "    <tr>\n",
       "      <th id=\"T_0bbae_level0_row0\" class=\"row_heading level0 row0\" >Alpha</th>\n",
       "      <td id=\"T_0bbae_row0_col0\" class=\"data row0 col0\" >0.000461</td>\n",
       "      <td id=\"T_0bbae_row0_col1\" class=\"data row0 col1\" >0.000423</td>\n",
       "    </tr>\n",
       "    <tr>\n",
       "      <th id=\"T_0bbae_level0_row1\" class=\"row_heading level0 row1\" >Alpha p-value</th>\n",
       "      <td id=\"T_0bbae_row1_col0\" class=\"data row1 col0\" >0.127985</td>\n",
       "      <td id=\"T_0bbae_row1_col1\" class=\"data row1 col1\" >0.094011</td>\n",
       "    </tr>\n",
       "    <tr>\n",
       "      <th id=\"T_0bbae_level0_row2\" class=\"row_heading level0 row2\" >Market Risk Premium</th>\n",
       "      <td id=\"T_0bbae_row2_col0\" class=\"data row2 col0\" >1.062972</td>\n",
       "      <td id=\"T_0bbae_row2_col1\" class=\"data row2 col1\" >0.958674</td>\n",
       "    </tr>\n",
       "    <tr>\n",
       "      <th id=\"T_0bbae_level0_row3\" class=\"row_heading level0 row3\" >Market Risk Premium p-value</th>\n",
       "      <td id=\"T_0bbae_row3_col0\" class=\"data row3 col0\" >0.000000</td>\n",
       "      <td id=\"T_0bbae_row3_col1\" class=\"data row3 col1\" >0.000000</td>\n",
       "    </tr>\n",
       "    <tr>\n",
       "      <th id=\"T_0bbae_level0_row4\" class=\"row_heading level0 row4\" >SMB</th>\n",
       "      <td id=\"T_0bbae_row4_col0\" class=\"data row4 col0\" >0.002666</td>\n",
       "      <td id=\"T_0bbae_row4_col1\" class=\"data row4 col1\" >0.004067</td>\n",
       "    </tr>\n",
       "    <tr>\n",
       "      <th id=\"T_0bbae_level0_row5\" class=\"row_heading level0 row5\" >SMB p-value</th>\n",
       "      <td id=\"T_0bbae_row5_col0\" class=\"data row5 col0\" >0.000000</td>\n",
       "      <td id=\"T_0bbae_row5_col1\" class=\"data row5 col1\" >0.000000</td>\n",
       "    </tr>\n",
       "    <tr>\n",
       "      <th id=\"T_0bbae_level0_row6\" class=\"row_heading level0 row6\" >HML</th>\n",
       "      <td id=\"T_0bbae_row6_col0\" class=\"data row6 col0\" >0.003338</td>\n",
       "      <td id=\"T_0bbae_row6_col1\" class=\"data row6 col1\" >0.003612</td>\n",
       "    </tr>\n",
       "    <tr>\n",
       "      <th id=\"T_0bbae_level0_row7\" class=\"row_heading level0 row7\" >HML p-value</th>\n",
       "      <td id=\"T_0bbae_row7_col0\" class=\"data row7 col0\" >0.000000</td>\n",
       "      <td id=\"T_0bbae_row7_col1\" class=\"data row7 col1\" >0.000000</td>\n",
       "    </tr>\n",
       "    <tr>\n",
       "      <th id=\"T_0bbae_level0_row8\" class=\"row_heading level0 row8\" >R^2</th>\n",
       "      <td id=\"T_0bbae_row8_col0\" class=\"data row8 col0\" >0.766007</td>\n",
       "      <td id=\"T_0bbae_row8_col1\" class=\"data row8 col1\" >0.786430</td>\n",
       "    </tr>\n",
       "  </tbody>\n",
       "</table>\n"
      ],
      "text/plain": [
       "<pandas.io.formats.style.Styler at 0x78edcdebbcd0>"
      ]
     },
     "metadata": {},
     "output_type": "display_data"
    }
   ],
   "source": [
    "# Populate Table 5\n",
    "ff_data_soc = {\n",
    "    \"Alpha\": [],\n",
    "    \"Alpha p-value\": [],\n",
    "    \"Market Risk Premium\": [],\n",
    "    \"Market Risk Premium p-value\": [],\n",
    "    \"SMB\": [],\n",
    "    \"SMB p-value\": [],\n",
    "    \"HML\": [],\n",
    "    \"HML p-value\": [],\n",
    "    \"R^2\": []\n",
    "}\n",
    "ff_portfolios_soc = {\n",
    "    \"SOC_Top\": top_portfolio_soc_ff,\n",
    "    \"SOC_Bottom\": bottom_portfolio_soc_ff\n",
    "}\n",
    "\n",
    "for name, model in ff_portfolios_soc.items():\n",
    "    stats = ff_stats(model)\n",
    "    ff_data_soc[\"Alpha\"].append(stats[0])\n",
    "    ff_data_soc[\"Alpha p-value\"].append(stats[1])\n",
    "    ff_data_soc[\"Market Risk Premium\"].append(stats[2])\n",
    "    ff_data_soc[\"Market Risk Premium p-value\"].append(stats[3])\n",
    "    ff_data_soc[\"SMB\"].append(stats[4])\n",
    "    ff_data_soc[\"SMB p-value\"].append(stats[5])\n",
    "    ff_data_soc[\"HML\"].append(stats[6])\n",
    "    ff_data_soc[\"HML p-value\"].append(stats[7])\n",
    "    ff_data_soc[\"R^2\"].append(stats[8])\n",
    "\n",
    "# Create DataFrame for Table 5\n",
    "table_5_df = pd.DataFrame(ff_data_soc, index=ff_portfolios_soc.keys())\n",
    "\n",
    "# Transpose DataFrame\n",
    "table_5_df = table_5_df.T\n",
    "\n",
    "# Align text to the left and display the DataFrame\n",
    "display(table_5_df.style.set_properties(**{'text-align': 'left'}))"
   ]
  },
  {
   "cell_type": "markdown",
   "metadata": {
    "id": "2hJlEI9Swrr3"
   },
   "source": [
    "### **Table 6: Time Series Regression Results for GOV Portfolios**"
   ]
  },
  {
   "cell_type": "code",
   "execution_count": 112,
   "metadata": {
    "colab": {
     "base_uri": "https://localhost:8080/",
     "height": 331
    },
    "id": "-iTVddeQsRzm",
    "outputId": "4bd3db38-3eaf-49ca-a6c9-0b7f76301668"
   },
   "outputs": [
    {
     "data": {
      "text/html": [
       "<style type=\"text/css\">\n",
       "#T_d0caa_row0_col0, #T_d0caa_row0_col1, #T_d0caa_row1_col0, #T_d0caa_row1_col1, #T_d0caa_row2_col0, #T_d0caa_row2_col1, #T_d0caa_row3_col0, #T_d0caa_row3_col1, #T_d0caa_row4_col0, #T_d0caa_row4_col1, #T_d0caa_row5_col0, #T_d0caa_row5_col1, #T_d0caa_row6_col0, #T_d0caa_row6_col1, #T_d0caa_row7_col0, #T_d0caa_row7_col1, #T_d0caa_row8_col0, #T_d0caa_row8_col1 {\n",
       "  text-align: left;\n",
       "}\n",
       "</style>\n",
       "<table id=\"T_d0caa\" class=\"dataframe\">\n",
       "  <thead>\n",
       "    <tr>\n",
       "      <th class=\"blank level0\" >&nbsp;</th>\n",
       "      <th id=\"T_d0caa_level0_col0\" class=\"col_heading level0 col0\" >GOV_Top</th>\n",
       "      <th id=\"T_d0caa_level0_col1\" class=\"col_heading level0 col1\" >GOV_Bottom</th>\n",
       "    </tr>\n",
       "  </thead>\n",
       "  <tbody>\n",
       "    <tr>\n",
       "      <th id=\"T_d0caa_level0_row0\" class=\"row_heading level0 row0\" >Alpha</th>\n",
       "      <td id=\"T_d0caa_row0_col0\" class=\"data row0 col0\" >0.000284</td>\n",
       "      <td id=\"T_d0caa_row0_col1\" class=\"data row0 col1\" >0.000491</td>\n",
       "    </tr>\n",
       "    <tr>\n",
       "      <th id=\"T_d0caa_level0_row1\" class=\"row_heading level0 row1\" >Alpha p-value</th>\n",
       "      <td id=\"T_d0caa_row1_col0\" class=\"data row1 col0\" >0.339099</td>\n",
       "      <td id=\"T_d0caa_row1_col1\" class=\"data row1 col1\" >0.094093</td>\n",
       "    </tr>\n",
       "    <tr>\n",
       "      <th id=\"T_d0caa_level0_row2\" class=\"row_heading level0 row2\" >Market Risk Premium</th>\n",
       "      <td id=\"T_d0caa_row2_col0\" class=\"data row2 col0\" >1.077489</td>\n",
       "      <td id=\"T_d0caa_row2_col1\" class=\"data row2 col1\" >1.050908</td>\n",
       "    </tr>\n",
       "    <tr>\n",
       "      <th id=\"T_d0caa_level0_row3\" class=\"row_heading level0 row3\" >Market Risk Premium p-value</th>\n",
       "      <td id=\"T_d0caa_row3_col0\" class=\"data row3 col0\" >0.000000</td>\n",
       "      <td id=\"T_d0caa_row3_col1\" class=\"data row3 col1\" >0.000000</td>\n",
       "    </tr>\n",
       "    <tr>\n",
       "      <th id=\"T_d0caa_level0_row4\" class=\"row_heading level0 row4\" >SMB</th>\n",
       "      <td id=\"T_d0caa_row4_col0\" class=\"data row4 col0\" >-0.001319</td>\n",
       "      <td id=\"T_d0caa_row4_col1\" class=\"data row4 col1\" >0.002885</td>\n",
       "    </tr>\n",
       "    <tr>\n",
       "      <th id=\"T_d0caa_level0_row5\" class=\"row_heading level0 row5\" >SMB p-value</th>\n",
       "      <td id=\"T_d0caa_row5_col0\" class=\"data row5 col0\" >0.007504</td>\n",
       "      <td id=\"T_d0caa_row5_col1\" class=\"data row5 col1\" >0.000000</td>\n",
       "    </tr>\n",
       "    <tr>\n",
       "      <th id=\"T_d0caa_level0_row6\" class=\"row_heading level0 row6\" >HML</th>\n",
       "      <td id=\"T_d0caa_row6_col0\" class=\"data row6 col0\" >0.004150</td>\n",
       "      <td id=\"T_d0caa_row6_col1\" class=\"data row6 col1\" >0.006746</td>\n",
       "    </tr>\n",
       "    <tr>\n",
       "      <th id=\"T_d0caa_level0_row7\" class=\"row_heading level0 row7\" >HML p-value</th>\n",
       "      <td id=\"T_d0caa_row7_col0\" class=\"data row7 col0\" >0.000000</td>\n",
       "      <td id=\"T_d0caa_row7_col1\" class=\"data row7 col1\" >0.000000</td>\n",
       "    </tr>\n",
       "    <tr>\n",
       "      <th id=\"T_d0caa_level0_row8\" class=\"row_heading level0 row8\" >R^2</th>\n",
       "      <td id=\"T_d0caa_row8_col0\" class=\"data row8 col0\" >0.786855</td>\n",
       "      <td id=\"T_d0caa_row8_col1\" class=\"data row8 col1\" >0.745923</td>\n",
       "    </tr>\n",
       "  </tbody>\n",
       "</table>\n"
      ],
      "text/plain": [
       "<pandas.io.formats.style.Styler at 0x78ee48ee5030>"
      ]
     },
     "metadata": {},
     "output_type": "display_data"
    }
   ],
   "source": [
    "from IPython.display import display\n",
    "\n",
    "# Populate Table 6\n",
    "ff_data_gov = {\n",
    "    \"Alpha\": [],\n",
    "    \"Alpha p-value\": [],\n",
    "    \"Market Risk Premium\": [],\n",
    "    \"Market Risk Premium p-value\": [],\n",
    "    \"SMB\": [],\n",
    "    \"SMB p-value\": [],\n",
    "    \"HML\": [],\n",
    "    \"HML p-value\": [],\n",
    "    \"R^2\": []\n",
    "}\n",
    "ff_portfolios_gov = {\n",
    "    \"GOV_Top\": top_portfolio_gov_ff,\n",
    "    \"GOV_Bottom\": bottom_portfolio_gov_ff\n",
    "}\n",
    "\n",
    "for name, model in ff_portfolios_gov.items():\n",
    "    stats = ff_stats(model)\n",
    "    ff_data_gov[\"Alpha\"].append(stats[0])\n",
    "    ff_data_gov[\"Alpha p-value\"].append(stats[1])\n",
    "    ff_data_gov[\"Market Risk Premium\"].append(stats[2])\n",
    "    ff_data_gov[\"Market Risk Premium p-value\"].append(stats[3])\n",
    "    ff_data_gov[\"SMB\"].append(stats[4])\n",
    "    ff_data_gov[\"SMB p-value\"].append(stats[5])\n",
    "    ff_data_gov[\"HML\"].append(stats[6])\n",
    "    ff_data_gov[\"HML p-value\"].append(stats[7])\n",
    "    ff_data_gov[\"R^2\"].append(stats[8])\n",
    "\n",
    "# Create DataFrame for Table 6\n",
    "table_6_df = pd.DataFrame(ff_data_gov, index=ff_portfolios_gov.keys())\n",
    "\n",
    "# Transpose DataFrame\n",
    "table_6_df = table_6_df.T\n",
    "\n",
    "# Align text to the left and display the DataFrame\n",
    "display(table_6_df.style.set_properties(**{'text-align': 'left'}))"
   ]
  }
 ],
 "metadata": {
  "colab": {
   "provenance": []
  },
  "kernelspec": {
   "display_name": "Python 3 (ipykernel)",
   "language": "python",
   "name": "python3"
  },
  "language_info": {
   "codemirror_mode": {
    "name": "ipython",
    "version": 3
   },
   "file_extension": ".py",
   "mimetype": "text/x-python",
   "name": "python",
   "nbconvert_exporter": "python",
   "pygments_lexer": "ipython3",
   "version": "3.11.7"
  }
 },
 "nbformat": 4,
 "nbformat_minor": 1
}
